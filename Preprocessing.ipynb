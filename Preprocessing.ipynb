{
 "cells": [
  {
   "cell_type": "markdown",
   "metadata": {},
   "source": [
    "# Original table analysis"
   ]
  },
  {
   "cell_type": "markdown",
   "metadata": {},
   "source": [
    "#### Which sub probabilities are included in the original table?"
   ]
  },
  {
   "cell_type": "code",
   "execution_count": null,
   "metadata": {},
   "outputs": [],
   "source": [
    "setting = dict(\n",
    "Qe_values = [0x5601,0x3401,0x1801,0x0ac1,0x0521,0x0221,0x5601,0x5401,0x4801,0x3801,\n",
    "  0x3001,0x2401,0x1c01,0x1601,0x5601,0x54ff,0x5401,0x527d,0x5101,0x4c5f,\n",
    "  0x4801,0x3f80,0x3801,0x35f7,0x3401,0x31f6,0x3001,0x2801,0x2401,0x2201,\n",
    "  0x1c01,0x1801,0x1601,0x1401,0x1201,0x1101,0x0ac1,0x09c1,0x08a1,0x0521,\n",
    "  0x0441,0x02a1,0x0221,0x0141,0x0111,0x0085,0x0049,0x0025,0x0015,0x0009,\n",
    "  0x0005,0x0001,0x5601],\n",
    "\n",
    "Qe_switch = [1,0,0,0,0,0,1,0,0,0,\n",
    "  0,0,0,0,1,0,0,0,0,0,\n",
    "  0,0,0,0,0,0,0,0,0,0,\n",
    "  0,0,0,0,0,0,0,0,0,0,\n",
    "  0,0,0,0,0,0,0,0,0,0,\n",
    "  0,0,0],\n",
    "\n",
    "Qe_MPS = [1,2,3,4,5,44,7,8,9,10,\n",
    "  11,12,13,35,15,16,17,18,19,20,\n",
    "  21,22,23,24,25,26,27,28,29,30,\n",
    "  31,32,33,34,35,36,37,38,39,40,\n",
    "  41,42,43,44,45,45,47,48,49,50,\n",
    "  51,51,52],\n",
    "\n",
    "Qe_LPS = [  1,6,9,12,35,39,6,14,14,14,\n",
    "  20,22,25,27,14,14,14,15,16,17,\n",
    "  18,19,20,21,22,23,24,25,26,27,\n",
    "  28,29,30,31,32,33,34,35,36,37,\n",
    "  38,39,40,41,42,43,44,45,46,47,\n",
    "  48,49,52],)\n",
    "\n",
    "# Probability that MPS occurs = 1 - Qe_decimal"
   ]
  },
  {
   "cell_type": "code",
   "execution_count": null,
   "metadata": {},
   "outputs": [],
   "source": [
    "import numpy as np\n",
    "import pandas as pd\n",
    "from matplotlib import pyplot as plt\n",
    "%matplotlib inline"
   ]
  },
  {
   "cell_type": "code",
   "execution_count": null,
   "metadata": {},
   "outputs": [],
   "source": [
    "df = pd.DataFrame(setting)\n",
    "df['Qe_decimal'] = df.loc[:,'Qe_values'] * 1.5 / (1 << 16)"
   ]
  },
  {
   "cell_type": "code",
   "execution_count": null,
   "metadata": {
    "scrolled": false
   },
   "outputs": [],
   "source": [
    "df"
   ]
  },
  {
   "cell_type": "markdown",
   "metadata": {},
   "source": [
    "- The table consists of several different probability declines\n",
    "- Starting point of these intervals are where Qe_LPS > Index **?**"
   ]
  },
  {
   "cell_type": "code",
   "execution_count": null,
   "metadata": {},
   "outputs": [],
   "source": [
    "starting_point_of_new_intervals = np.append([0], df.Qe_LPS[df.Qe_LPS >= df.index].unique())\n",
    "backward_point_of_old_intervals = [x for x in range(53) if x not in starting_point_of_new_intervals]"
   ]
  },
  {
   "cell_type": "code",
   "execution_count": null,
   "metadata": {},
   "outputs": [],
   "source": [
    "def follow_mps(df, start):\n",
    "    ix = start\n",
    "    probabilities = []\n",
    "    while True:\n",
    "        prob = df.loc[ix, 'Qe_decimal']\n",
    "        probabilities.append(prob)\n",
    "        if df.loc[ix,'Qe_MPS'] == ix:\n",
    "            break\n",
    "        ix = df.loc[ix,'Qe_MPS']\n",
    "    return np.array(probabilities)\n",
    "\n",
    "def follow_lps(df, start):\n",
    "    ix = start\n",
    "    probabilities = []\n",
    "    while True:\n",
    "        prob = df.loc[ix, 'Qe_decimal']\n",
    "        probabilities.append(prob)\n",
    "        if df.loc[ix,'Qe_LPS'] == ix:\n",
    "            break\n",
    "        ix = df.loc[ix,'Qe_LPS']\n",
    "    return np.array(probabilities)"
   ]
  },
  {
   "cell_type": "code",
   "execution_count": null,
   "metadata": {},
   "outputs": [],
   "source": [
    "def append(to, what, how_often, front=True):\n",
    "    tmp = [what] * how_often\n",
    "    if front:\n",
    "        return np.append(tmp, to)\n",
    "    return np.append(to, tmp)"
   ]
  },
  {
   "cell_type": "code",
   "execution_count": null,
   "metadata": {},
   "outputs": [],
   "source": [
    "probabilities = {'S'+str(s): follow_mps(df, s) for s in starting_point_of_new_intervals}\n",
    "adjusted_prob = {s: append(k, None, 32 - len(k), False) for s,k in probabilities.items()}"
   ]
  },
  {
   "cell_type": "code",
   "execution_count": null,
   "metadata": {},
   "outputs": [],
   "source": [
    "pd.DataFrame(adjusted_prob).plot(figsize=(16.53,11.69), marker='x');\n",
    "plt.tight_layout()\n",
    "plt.savefig('mps.a3.svg')"
   ]
  },
  {
   "cell_type": "code",
   "execution_count": null,
   "metadata": {},
   "outputs": [],
   "source": [
    "pd.DataFrame(adjusted_prob).plot(figsize=(11.69,8.27),subplots=True, sharey=True);"
   ]
  },
  {
   "cell_type": "code",
   "execution_count": null,
   "metadata": {},
   "outputs": [],
   "source": [
    "probabilities = {'S'+str(s): follow_lps(df, s) for s in backward_point_of_old_intervals}\n",
    "adjusted_prob = {s: append(k, None, 32 - len(k), False) for s,k in probabilities.items()}"
   ]
  },
  {
   "cell_type": "code",
   "execution_count": null,
   "metadata": {},
   "outputs": [],
   "source": [
    "pd.DataFrame(adjusted_prob).plot(figsize=(16.53,11.69), marker='x');\n",
    "plt.tight_layout()\n",
    "plt.savefig('lps.a3.svg')"
   ]
  },
  {
   "cell_type": "code",
   "execution_count": null,
   "metadata": {},
   "outputs": [],
   "source": [
    "pd.DataFrame(adjusted_prob).plot(figsize=(8.27,11.69),subplots=True, sharey=True);"
   ]
  },
  {
   "cell_type": "markdown",
   "metadata": {},
   "source": [
    "Preprocessing is done. The plot and changes are printed."
   ]
  },
  {
   "cell_type": "code",
   "execution_count": null,
   "metadata": {},
   "outputs": [],
   "source": []
  }
 ],
 "metadata": {
  "kernelspec": {
   "display_name": "Python 3",
   "language": "python",
   "name": "python3"
  },
  "language_info": {
   "codemirror_mode": {
    "name": "ipython",
    "version": 3
   },
   "file_extension": ".py",
   "mimetype": "text/x-python",
   "name": "python",
   "nbconvert_exporter": "python",
   "pygments_lexer": "ipython3",
   "version": "3.6.6"
  }
 },
 "nbformat": 4,
 "nbformat_minor": 2
}
