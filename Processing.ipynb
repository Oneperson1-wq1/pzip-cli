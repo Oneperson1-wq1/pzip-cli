{
 "cells": [
  {
   "cell_type": "code",
   "execution_count": 3,
   "metadata": {},
   "outputs": [],
   "source": [
    "import numpy as np; import pandas as pd; \n",
    "from glob import glob\n",
    "%matplotlib inline"
   ]
  },
  {
   "cell_type": "code",
   "execution_count": 9,
   "metadata": {},
   "outputs": [],
   "source": [
    "regex = \"raid6/emac*residual\""
   ]
  },
  {
   "cell_type": "code",
   "execution_count": 18,
   "metadata": {},
   "outputs": [
    {
     "name": "stdout",
     "output_type": "stream",
     "text": [
      "18432000\n",
      "18432000\n",
      "18432000\n",
      "18432000\n",
      "18432000\n",
      "18432000\n",
      "18432000\n",
      "18432000\n",
      "18432000\n",
      "18432000\n",
      "18432000\n",
      "18432000\n",
      "18432000\n",
      "18432000\n"
     ]
    }
   ],
   "source": [
    "for k in sorted(glob(regex)):\n",
    "    data = np.fromfile(k, dtype='uint8')\n",
    "    print(data.size)\n",
    "    residual[k] = data"
   ]
  }
 ],
 "metadata": {
  "kernelspec": {
   "display_name": "Python 3",
   "language": "python",
   "name": "python3"
  },
  "language_info": {
   "codemirror_mode": {
    "name": "ipython",
    "version": 3
   },
   "file_extension": ".py",
   "mimetype": "text/x-python",
   "name": "python",
   "nbconvert_exporter": "python",
   "pygments_lexer": "ipython3",
   "version": "3.6.6"
  }
 },
 "nbformat": 4,
 "nbformat_minor": 2
}
