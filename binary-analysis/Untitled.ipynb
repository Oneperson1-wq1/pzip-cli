{
 "cells": [
  {
   "cell_type": "code",
   "execution_count": 1,
   "metadata": {},
   "outputs": [],
   "source": [
    "import pandas as pd\n",
    "from matplotlib import pyplot as plt\n",
    "%matplotlib inline"
   ]
  },
  {
   "cell_type": "code",
   "execution_count": 2,
   "metadata": {},
   "outputs": [],
   "source": [
    "from glob import glob"
   ]
  },
  {
   "cell_type": "code",
   "execution_count": 3,
   "metadata": {},
   "outputs": [],
   "source": [
    "def transform(val):\n",
    "    if not val:\n",
    "        return 0\n",
    "    if val[-1] == \"}\":\n",
    "        val = val[:-1]\n",
    "    if \"{\" in val:\n",
    "        val = val.split(\"{\")[1]\n",
    "    return int(val.split(':')[1])\n",
    "vtransform = pd.np.frompyfunc(transform, 1, 1)\n",
    "\n",
    "def read_log(file):\n",
    "    df = pd.read_csv(f, sep=\",\", header=None, skiprows=2, skipfooter=1)\n",
    "    df.index = [\"Binary\", \"Positions\"]\n",
    "    df[:] = vtransform(df.values[:,:])\n",
    "    return df"
   ]
  },
  {
   "cell_type": "code",
   "execution_count": 4,
   "metadata": {},
   "outputs": [],
   "source": [
    "files = glob(\"/home/ucyo/rust/pzip/data/icon-data/bits_distribution/icon.ml*.log\")"
   ]
  },
  {
   "cell_type": "code",
   "execution_count": 5,
   "metadata": {},
   "outputs": [
    {
     "name": "stderr",
     "output_type": "stream",
     "text": [
      "/home/ucyo/Environments/infospace/lib/python3.6/site-packages/ipykernel_launcher.py:3: ParserWarning: Falling back to the 'python' engine because the 'c' engine does not support skipfooter; you can avoid this warning by specifying engine='python'.\n",
      "  This is separate from the ipykernel package so we can avoid doing imports until\n"
     ]
    }
   ],
   "source": [
    "result = []\n",
    "for f in files:\n",
    "    df = pd.read_csv(f, sep=\",\", header=None, skiprows=2, skipfooter=1)\n",
    "    df.index = [\"Binary\", \"Positions\"]\n",
    "    df[:] = vtransform(df.values[:,:])\n",
    "    binary = (df.loc['Binary',:]/df.loc['Binary',1]*100)\n",
    "    binary.name = f.rsplit(\"/\", 1)[1]\n",
    "    result += [binary]"
   ]
  },
  {
   "cell_type": "code",
   "execution_count": 6,
   "metadata": {},
   "outputs": [],
   "source": [
    "df = pd.concat(result, axis=1)"
   ]
  },
  {
   "cell_type": "code",
   "execution_count": 7,
   "metadata": {},
   "outputs": [],
   "source": [
    "import seaborn as sns\n",
    "from matplotlib import pyplot as plt"
   ]
  },
  {
   "cell_type": "code",
   "execution_count": null,
   "metadata": {},
   "outputs": [],
   "source": []
  },
  {
   "cell_type": "code",
   "execution_count": 8,
   "metadata": {},
   "outputs": [
    {
     "name": "stderr",
     "output_type": "stream",
     "text": [
      "/home/ucyo/Environments/infospace/lib/python3.6/site-packages/scipy/stats/stats.py:1713: FutureWarning: Using a non-tuple sequence for multidimensional indexing is deprecated; use `arr[tuple(seq)]` instead of `arr[seq]`. In the future this will be interpreted as an array index, `arr[np.array(seq)]`, which will result either in an error or a different result.\n",
      "  return np.add.reduce(sorted[indexer] * weights, axis=axis) / sumval\n"
     ]
    },
    {
     "data": {
      "image/png": "[encoded data removed]",
      "text/plain": [
       "<Figure size 955.44x360 with 1 Axes>"
      ]
     },
     "metadata": {},
     "output_type": "display_data"
    }
   ],
   "source": [
    "fig, ax = plt.subplots(figsize=(13.27,5))\n",
    "bp = sns.barplot(ax=ax,data=df.T)\n",
    "for item in bp.get_xticklabels():\n",
    "    item.set_rotation(90)\n",
    "plt.xticks(pd.np.arange(64), [bin(x)[2:] for x in pd.np.arange(64)]);\n",
    "plt.axhline(50, 0.03125, .0625);\n",
    "plt.axhline(25, .0625,.125);\n",
    "plt.axhline(12.5, .125, .25);\n",
    "plt.axhline(6.25, .25, .5);\n",
    "plt.axhline(3.125, .5, 1);\n",
    "plt.title(f);\n",
    "plt.axvline(1.5, color='gray', alpha=.5);\n",
    "plt.axvline(3.5, color='gray', alpha=.5);\n",
    "plt.axvline(7.5, color='gray', alpha=.5);\n",
    "plt.axvline(15.5, color='gray', alpha=.5);\n",
    "plt.axvline(31.5, color='gray', alpha=.5);\n",
    "plt.title(\"Distribution of set/unset bits in the six most significant bits of the residual\")\n",
    "plt.xlabel(\"Binary representation of the bits in the residual\")\n",
    "plt.ylabel(\"Frequency [% share]\")\n",
    "plt.tight_layout()\n",
    "# plt.savefig(\"/home/ucyo/Developments/encoding-paper/pics/bitsets.pdf\")\n",
    "plt.show()"
   ]
  },
  {
   "cell_type": "code",
   "execution_count": 9,
   "metadata": {},
   "outputs": [
    {
     "data": {
      "text/plain": [
       "['/home/ucyo/rust/pzip/data/icon-data/bits_distribution/icon.ml.pv.f32.little.4x90x351x901_3.log',\n",
       " '/home/ucyo/rust/pzip/data/icon-data/bits_distribution/icon.ml.qc.f32.little.4x90x351x901_3.log',\n",
       " '/home/ucyo/rust/pzip/data/icon-data/bits_distribution/icon.ml.temp.f32.little.4x90x351x901_1.log',\n",
       " '/home/ucyo/rust/pzip/data/icon-data/bits_distribution/icon.ml.tempv.f32.little.4x90x351x901_0.log',\n",
       " '/home/ucyo/rust/pzip/data/icon-data/bits_distribution/icon.ml.temp.f32.little.4x90x351x901_3.log',\n",
       " '/home/ucyo/rust/pzip/data/icon-data/bits_distribution/icon.ml.qv.f32.little.4x90x351x901_0.log',\n",
       " '/home/ucyo/rust/pzip/data/icon-data/bits_distribution/icon.ml.qi.f32.little.4x90x351x901_0.log',\n",
       " '/home/ucyo/rust/pzip/data/icon-data/bits_distribution/icon.ml.vor.f32.little.4x90x351x901_2.log',\n",
       " '/home/ucyo/rust/pzip/data/icon-data/bits_distribution/icon.ml.pv.f32.little.4x90x351x901_1.log',\n",
       " '/home/ucyo/rust/pzip/data/icon-data/bits_distribution/icon.ml.tempv.f32.little.4x90x351x901_1.log',\n",
       " '/home/ucyo/rust/pzip/data/icon-data/bits_distribution/icon.ml.qc.f32.little.4x90x351x901_2.log',\n",
       " '/home/ucyo/rust/pzip/data/icon-data/bits_distribution/icon.ml.omega.f32.little.4x90x351x901_0.log',\n",
       " '/home/ucyo/rust/pzip/data/icon-data/bits_distribution/icon.ml.temp.f32.little.4x90x351x901_2.log',\n",
       " '/home/ucyo/rust/pzip/data/icon-data/bits_distribution/icon.ml.vor.f32.little.4x90x351x901_1.log',\n",
       " '/home/ucyo/rust/pzip/data/icon-data/bits_distribution/icon.ml.geopot.f32.little.4x90x351x901_2.log',\n",
       " '/home/ucyo/rust/pzip/data/icon-data/bits_distribution/icon.ml.qc.f32.little.4x90x351x901_1.log',\n",
       " '/home/ucyo/rust/pzip/data/icon-data/bits_distribution/icon.ml.u.f32.little.4x90x351x901_2.log',\n",
       " '/home/ucyo/rust/pzip/data/icon-data/bits_distribution/icon.ml.tempv.f32.little.4x90x351x901_3.log',\n",
       " '/home/ucyo/rust/pzip/data/icon-data/bits_distribution/icon.ml.qi.f32.little.4x90x351x901_2.log',\n",
       " '/home/ucyo/rust/pzip/data/icon-data/bits_distribution/icon.ml.qv.f32.little.4x90x351x901_2.log',\n",
       " '/home/ucyo/rust/pzip/data/icon-data/bits_distribution/icon.ml.u.f32.little.4x90x351x901_1.log',\n",
       " '/home/ucyo/rust/pzip/data/icon-data/bits_distribution/icon.ml.w.f32.little.4x91x351x901_0.log',\n",
       " '/home/ucyo/rust/pzip/data/icon-data/bits_distribution/icon.ml.pv.f32.little.4x90x351x901_0.log',\n",
       " '/home/ucyo/rust/pzip/data/icon-data/bits_distribution/icon.ml.qi.f32.little.4x90x351x901_1.log',\n",
       " '/home/ucyo/rust/pzip/data/icon-data/bits_distribution/icon.ml.qv.f32.little.4x90x351x901_3.log',\n",
       " '/home/ucyo/rust/pzip/data/icon-data/bits_distribution/icon.ml.w.f32.little.4x91x351x901_3.log',\n",
       " '/home/ucyo/rust/pzip/data/icon-data/bits_distribution/icon.ml.qv.f32.little.4x90x351x901_1.log',\n",
       " '/home/ucyo/rust/pzip/data/icon-data/bits_distribution/icon.ml.w.f32.little.4x91x351x901_2.log',\n",
       " '/home/ucyo/rust/pzip/data/icon-data/bits_distribution/icon.ml.omega.f32.little.4x90x351x901_3.log',\n",
       " '/home/ucyo/rust/pzip/data/icon-data/bits_distribution/icon.ml.vor.f32.little.4x90x351x901_0.log',\n",
       " '/home/ucyo/rust/pzip/data/icon-data/bits_distribution/icon.ml.u.f32.little.4x90x351x901_0.log',\n",
       " '/home/ucyo/rust/pzip/data/icon-data/bits_distribution/icon.ml.geopot.f32.little.4x90x351x901_3.log',\n",
       " '/home/ucyo/rust/pzip/data/icon-data/bits_distribution/icon.ml.pv.f32.little.4x90x351x901_2.log',\n",
       " '/home/ucyo/rust/pzip/data/icon-data/bits_distribution/icon.ml.omega.f32.little.4x90x351x901_1.log',\n",
       " '/home/ucyo/rust/pzip/data/icon-data/bits_distribution/icon.ml.tempv.f32.little.4x90x351x901_2.log',\n",
       " '/home/ucyo/rust/pzip/data/icon-data/bits_distribution/icon.ml.omega.f32.little.4x90x351x901_2.log',\n",
       " '/home/ucyo/rust/pzip/data/icon-data/bits_distribution/icon.ml.qc.f32.little.4x90x351x901_0.log',\n",
       " '/home/ucyo/rust/pzip/data/icon-data/bits_distribution/icon.ml.geopot.f32.little.4x90x351x901_0.log',\n",
       " '/home/ucyo/rust/pzip/data/icon-data/bits_distribution/icon.ml.geopot.f32.little.4x90x351x901_1.log',\n",
       " '/home/ucyo/rust/pzip/data/icon-data/bits_distribution/icon.ml.vor.f32.little.4x90x351x901_3.log',\n",
       " '/home/ucyo/rust/pzip/data/icon-data/bits_distribution/icon.ml.qi.f32.little.4x90x351x901_3.log',\n",
       " '/home/ucyo/rust/pzip/data/icon-data/bits_distribution/icon.ml.temp.f32.little.4x90x351x901_0.log',\n",
       " '/home/ucyo/rust/pzip/data/icon-data/bits_distribution/icon.ml.w.f32.little.4x91x351x901_1.log',\n",
       " '/home/ucyo/rust/pzip/data/icon-data/bits_distribution/icon.ml.u.f32.little.4x90x351x901_3.log']"
      ]
     },
     "execution_count": 9,
     "metadata": {},
     "output_type": "execute_result"
    }
   ],
   "source": [
    "files"
   ]
  },
  {
   "cell_type": "code",
   "execution_count": null,
   "metadata": {},
   "outputs": [],
   "source": []
  }
 ],
 "metadata": {
  "kernelspec": {
   "display_name": "Python 3",
   "language": "python",
   "name": "python3"
  },
  "language_info": {
   "codemirror_mode": {
    "name": "ipython",
    "version": 3
   },
   "file_extension": ".py",
   "mimetype": "text/x-python",
   "name": "python",
   "nbconvert_exporter": "python",
   "pygments_lexer": "ipython3",
   "version": "3.6.6"
  }
 },
 "nbformat": 4,
 "nbformat_minor": 2
}
