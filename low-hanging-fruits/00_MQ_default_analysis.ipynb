{
 "cells": [
  {
   "cell_type": "markdown",
   "metadata": {},
   "source": [
    "Analysis of the performance of the MQ Encoder/Decoder with the original tabular values for `qe`."
   ]
  },
  {
   "cell_type": "code",
   "execution_count": 1,
   "metadata": {},
   "outputs": [],
   "source": [
    "import numpy as np\n",
    "import pandas as pd\n",
    "from glob import glob\n",
    "%matplotlib inline"
   ]
  },
  {
   "cell_type": "code",
   "execution_count": 2,
   "metadata": {},
   "outputs": [],
   "source": [
    "from itertools import chain\n",
    "import os"
   ]
  },
  {
   "cell_type": "code",
   "execution_count": 3,
   "metadata": {},
   "outputs": [],
   "source": [
    "basenames = glob(\"./*.residual\")\n",
    "uncompressed = dict(\n",
    "    residual = sorted([x for x in basenames]), \n",
    "    nolzc = sorted([x+'.nlzc' for x in basenames]),\n",
    "    bplanes = sorted([x+'.bplanes' for x in basenames]),\n",
    ")\n",
    "compressed = dict(\n",
    "    residual = sorted([x+'.mq' for x in basenames]),\n",
    "    nolzc = sorted([x+'.nlzc.mq' for x in basenames]),\n",
    "    bplanes = sorted([x+'.bplanes.mq' for x in basenames]),\n",
    ")\n",
    "merged = chain.from_iterable([x for x in uncompressed.values()]+[x for x in compressed.values()])\n",
    "merged = [x for x in merged]"
   ]
  },
  {
   "cell_type": "code",
   "execution_count": 4,
   "metadata": {
    "scrolled": false
   },
   "outputs": [
    {
     "data": {
      "text/html": [
       "<div>\n",
       "<style scoped>\n",
       "    .dataframe tbody tr th:only-of-type {\n",
       "        vertical-align: middle;\n",
       "    }\n",
       "\n",
       "    .dataframe tbody tr th {\n",
       "        vertical-align: top;\n",
       "    }\n",
       "\n",
       "    .dataframe thead th {\n",
       "        text-align: right;\n",
       "    }\n",
       "</style>\n",
       "<table border=\"1\" class=\"dataframe\">\n",
       "  <thead>\n",
       "    <tr style=\"text-align: right;\">\n",
       "      <th></th>\n",
       "    </tr>\n",
       "  </thead>\n",
       "  <tbody>\n",
       "    <tr>\n",
       "      <th>emac.ml.tvirt.f32.little.5x90x160x320_1.raw</th>\n",
       "    </tr>\n",
       "    <tr>\n",
       "      <th>emac.ml.qm1.f32.little.5x90x160x320_0.raw</th>\n",
       "    </tr>\n",
       "    <tr>\n",
       "      <th>icon.pl.tempv.f32.little.4x47x351x901_3.raw</th>\n",
       "    </tr>\n",
       "    <tr>\n",
       "      <th>icon.pl.qc.f32.little.4x47x351x901_0.raw</th>\n",
       "    </tr>\n",
       "    <tr>\n",
       "      <th>icon.pl.u.f32.little.4x47x351x901_0.raw</th>\n",
       "    </tr>\n",
       "  </tbody>\n",
       "</table>\n",
       "</div>"
      ],
      "text/plain": [
       "Empty DataFrame\n",
       "Columns: []\n",
       "Index: [emac.ml.tvirt.f32.little.5x90x160x320_1.raw, emac.ml.qm1.f32.little.5x90x160x320_0.raw, icon.pl.tempv.f32.little.4x47x351x901_3.raw, icon.pl.qc.f32.little.4x47x351x901_0.raw, icon.pl.u.f32.little.4x47x351x901_0.raw]"
      ]
     },
     "execution_count": 4,
     "metadata": {},
     "output_type": "execute_result"
    }
   ],
   "source": [
    "index = [x[2:-9] for x in basenames]\n",
    "df = pd.DataFrame([], index=index)\n",
    "df.head()"
   ]
  },
  {
   "cell_type": "code",
   "execution_count": 5,
   "metadata": {
    "scrolled": false
   },
   "outputs": [
    {
     "data": {
      "text/html": [
       "<div>\n",
       "<style scoped>\n",
       "    .dataframe tbody tr th:only-of-type {\n",
       "        vertical-align: middle;\n",
       "    }\n",
       "\n",
       "    .dataframe tbody tr th {\n",
       "        vertical-align: top;\n",
       "    }\n",
       "\n",
       "    .dataframe thead th {\n",
       "        text-align: right;\n",
       "    }\n",
       "</style>\n",
       "<table border=\"1\" class=\"dataframe\">\n",
       "  <thead>\n",
       "    <tr style=\"text-align: right;\">\n",
       "      <th></th>\n",
       "      <th>residual</th>\n",
       "      <th>nlzc</th>\n",
       "      <th>bplanes</th>\n",
       "      <th>residual.mq</th>\n",
       "      <th>nlzc.mq</th>\n",
       "      <th>bplanes.mq</th>\n",
       "    </tr>\n",
       "  </thead>\n",
       "  <tbody>\n",
       "    <tr>\n",
       "      <th>emac.ml.tvirt.f32.little.5x90x160x320_1.raw</th>\n",
       "      <td>18432000</td>\n",
       "      <td>8826000</td>\n",
       "      <td>8826000</td>\n",
       "      <td>17397026</td>\n",
       "      <td>8912677</td>\n",
       "      <td>8333218</td>\n",
       "    </tr>\n",
       "    <tr>\n",
       "      <th>emac.ml.qm1.f32.little.5x90x160x320_0.raw</th>\n",
       "      <td>18432000</td>\n",
       "      <td>9444524</td>\n",
       "      <td>9444524</td>\n",
       "      <td>17753567</td>\n",
       "      <td>9535938</td>\n",
       "      <td>8958885</td>\n",
       "    </tr>\n",
       "    <tr>\n",
       "      <th>icon.pl.tempv.f32.little.4x47x351x901_3.raw</th>\n",
       "      <td>59455188</td>\n",
       "      <td>15433016</td>\n",
       "      <td>15433016</td>\n",
       "      <td>36185706</td>\n",
       "      <td>15544158</td>\n",
       "      <td>14188855</td>\n",
       "    </tr>\n",
       "    <tr>\n",
       "      <th>icon.pl.qc.f32.little.4x47x351x901_0.raw</th>\n",
       "      <td>59455188</td>\n",
       "      <td>1217448</td>\n",
       "      <td>1217448</td>\n",
       "      <td>1816555</td>\n",
       "      <td>1229442</td>\n",
       "      <td>1186087</td>\n",
       "    </tr>\n",
       "    <tr>\n",
       "      <th>icon.pl.u.f32.little.4x47x351x901_0.raw</th>\n",
       "      <td>59455188</td>\n",
       "      <td>23567476</td>\n",
       "      <td>23567476</td>\n",
       "      <td>44222876</td>\n",
       "      <td>23798214</td>\n",
       "      <td>22417868</td>\n",
       "    </tr>\n",
       "  </tbody>\n",
       "</table>\n",
       "</div>"
      ],
      "text/plain": [
       "                                             residual      nlzc   bplanes  \\\n",
       "emac.ml.tvirt.f32.little.5x90x160x320_1.raw  18432000   8826000   8826000   \n",
       "emac.ml.qm1.f32.little.5x90x160x320_0.raw    18432000   9444524   9444524   \n",
       "icon.pl.tempv.f32.little.4x47x351x901_3.raw  59455188  15433016  15433016   \n",
       "icon.pl.qc.f32.little.4x47x351x901_0.raw     59455188   1217448   1217448   \n",
       "icon.pl.u.f32.little.4x47x351x901_0.raw      59455188  23567476  23567476   \n",
       "\n",
       "                                             residual.mq   nlzc.mq  bplanes.mq  \n",
       "emac.ml.tvirt.f32.little.5x90x160x320_1.raw     17397026   8912677     8333218  \n",
       "emac.ml.qm1.f32.little.5x90x160x320_0.raw       17753567   9535938     8958885  \n",
       "icon.pl.tempv.f32.little.4x47x351x901_3.raw     36185706  15544158    14188855  \n",
       "icon.pl.qc.f32.little.4x47x351x901_0.raw         1816555   1229442     1186087  \n",
       "icon.pl.u.f32.little.4x47x351x901_0.raw         44222876  23798214    22417868  "
      ]
     },
     "execution_count": 5,
     "metadata": {},
     "output_type": "execute_result"
    }
   ],
   "source": [
    "df['residual'] = [os.path.getsize(x+'.residual') for x in df.index]\n",
    "df['nlzc'] = [os.path.getsize(x+'.residual.nlzc') for x in df.index]\n",
    "df['bplanes'] = [os.path.getsize(x+'.residual.bplanes') for x in df.index]\n",
    "df['residual.mq'] = [os.path.getsize(x+'.residual.mq') for x in df.index]\n",
    "df['nlzc.mq'] = [os.path.getsize(x+'.residual.nlzc.mq') for x in df.index]\n",
    "df['bplanes.mq'] = [os.path.getsize(x+'.residual.bplanes.mq') for x in df.index]\n",
    "df.head()"
   ]
  },
  {
   "cell_type": "code",
   "execution_count": 6,
   "metadata": {},
   "outputs": [],
   "source": [
    "df['residual.cr'] = df['residual.mq']/df['residual']\n",
    "df['nlzc.cr'] = df['nlzc.mq']/df['nlzc']\n",
    "df['bplanes.cr'] = df['bplanes.mq']/df['bplanes']\n",
    "df.sort_index(inplace=True)"
   ]
  },
  {
   "cell_type": "markdown",
   "metadata": {},
   "source": [
    "# Cleanup of data"
   ]
  },
  {
   "cell_type": "code",
   "execution_count": 7,
   "metadata": {},
   "outputs": [],
   "source": [
    "nlzc_too_small = df.loc[df['nlzc']<1000000].index\n",
    "for x in nlzc_too_small:\n",
    "    df.drop(x, axis=0, inplace=True)"
   ]
  },
  {
   "cell_type": "code",
   "execution_count": 8,
   "metadata": {
    "scrolled": false
   },
   "outputs": [
    {
     "data": {
      "image/png": "[encoded data removed]",
      "text/plain": [
       "<Figure size 792x504 with 1 Axes>"
      ]
     },
     "metadata": {},
     "output_type": "display_data"
    }
   ],
   "source": [
    "df.loc[:,[x for x in df.columns if \"cr\" in x]].sort_index().plot(figsize=(11,7));"
   ]
  },
  {
   "cell_type": "code",
   "execution_count": 10,
   "metadata": {},
   "outputs": [
    {
     "data": {
      "image/png": "[encoded data removed]",
      "text/plain": [
       "<Figure size 432x288 with 1 Axes>"
      ]
     },
     "metadata": {},
     "output_type": "display_data"
    }
   ],
   "source": [
    "df = df.reindex(sorted(df.columns), axis=1)\n",
    "df.loc['emac.ml.tm1.f32.little.5x90x160x320_3.raw',[x for x in df.columns if 'cr' in x]].plot.bar();"
   ]
  },
  {
   "cell_type": "code",
   "execution_count": 11,
   "metadata": {},
   "outputs": [
    {
     "data": {
      "text/plain": [
       "bplanes.cr     0.933927\n",
       "nlzc.cr        1.009803\n",
       "residual.cr    0.892953\n",
       "Name: emac.ml.tm1.f32.little.5x90x160x320_3.raw, dtype: float64"
      ]
     },
     "execution_count": 11,
     "metadata": {},
     "output_type": "execute_result"
    }
   ],
   "source": [
    "df.loc['emac.ml.tm1.f32.little.5x90x160x320_3.raw',[x for x in df.columns if 'cr' in x]]"
   ]
  },
  {
   "cell_type": "code",
   "execution_count": 12,
   "metadata": {},
   "outputs": [
    {
     "name": "stdout",
     "output_type": "stream",
     "text": [
      "/bin/sh: 1: Syntax error: word unexpected (expecting \")\")\r\n"
     ]
    }
   ],
   "source": [
    "![title](../pics/correlation_window.png)"
   ]
  },
  {
   "cell_type": "code",
   "execution_count": null,
   "metadata": {},
   "outputs": [],
   "source": []
  }
 ],
 "metadata": {
  "kernelspec": {
   "display_name": "Python 3",
   "language": "python",
   "name": "python3"
  },
  "language_info": {
   "codemirror_mode": {
    "name": "ipython",
    "version": 3
   },
   "file_extension": ".py",
   "mimetype": "text/x-python",
   "name": "python",
   "nbconvert_exporter": "python",
   "pygments_lexer": "ipython3",
   "version": "3.6.6"
  }
 },
 "nbformat": 4,
 "nbformat_minor": 2
}
