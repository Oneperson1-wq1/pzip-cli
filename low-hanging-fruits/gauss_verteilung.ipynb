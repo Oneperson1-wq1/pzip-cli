{
 "cells": [
  {
   "cell_type": "code",
   "execution_count": null,
   "metadata": {},
   "outputs": [],
   "source": [
    "import numpy as np\n",
    "import pandas as pd\n",
    "import struct\n",
    "from matplotlib import pyplot as plt\n",
    "import seaborn as sns\n",
    "%matplotlib inline"
   ]
  },
  {
   "cell_type": "code",
   "execution_count": null,
   "metadata": {},
   "outputs": [],
   "source": [
    "npxor = np.frompyfunc(np.bitwise_xor, 2, 1)"
   ]
  },
  {
   "cell_type": "code",
   "execution_count": null,
   "metadata": {},
   "outputs": [],
   "source": [
    "def lzc(t):\n",
    "    return 32 - len(np.binary_repr(t))\n",
    "lzcv = np.frompyfunc(lzc, 1, 1)"
   ]
  },
  {
   "cell_type": "code",
   "execution_count": null,
   "metadata": {},
   "outputs": [],
   "source": [
    "def to_u32(f):\n",
    "    s = struct.pack('>f',f)\n",
    "    return struct.unpack('>l', s)[0]\n",
    "to_u32v = np.frompyfunc(to_u32, 1, 1)"
   ]
  },
  {
   "cell_type": "code",
   "execution_count": null,
   "metadata": {},
   "outputs": [],
   "source": [
    "def mean_lzc(m, o):\n",
    "    dist = np.random.normal(m,o,size=1000)\n",
    "    truth = to_u32(m)\n",
    "    vals = to_u32v(dist)\n",
    "    xors = npxor(vals, truth)\n",
    "    lzcs = lzcv(xors)\n",
    "    return lzcs.mean()\n",
    "\n",
    "def mean_lzc_group(m, o):\n",
    "    dist = np.random.normal(m,o,size=1000)\n",
    "    truth = to_u32(m)\n",
    "    vals = to_u32v(dist)\n",
    "    xors = npxor(vals, truth)\n",
    "    lzcs = lzcv(xors)\n",
    "    return lzcs\n",
    "    return lzcs.mean()"
   ]
  },
  {
   "cell_type": "markdown",
   "metadata": {},
   "source": [
    "## TODO\n",
    "\n",
    "- [x] Plot LZC($\\mu$)\n",
    "- [x] Plot LZC($\\sigma$)\n",
    "- [ ] Find out with what $\\sigma$ we are working for different predictors for climate data\n",
    "    - [ ] Mean/Std of residuals?\n",
    "    - [ ] Mean/Std of LZC of residuals?\n",
    "    - [ ] Mean/Std of Error of predictor?\n",
    "- [ ] Plot compression ratio dependency of $\\mu$\n",
    "- [ ] Plot compression ratio dependency of $\\sigma$\n",
    "- [x] Mark the 0101010101 shift values in the plot\n",
    "- [x] Mark the 1010101010 shift values in the plot\n",
    "- [x] Change the binary representation of numbers to grey plot LZC"
   ]
  },
  {
   "cell_type": "markdown",
   "metadata": {},
   "source": [
    "# Calculate shift goals"
   ]
  },
  {
   "cell_type": "code",
   "execution_count": null,
   "metadata": {},
   "outputs": [],
   "source": [
    "def get_flipping_value(val):\n",
    "    assert val & (val-1) == 0, \"Not power of two\"\n",
    "    i = len(np.binary_repr(val)) - 3\n",
    "    while i >= 0:\n",
    "        val += 1 << i\n",
    "        i -= 2\n",
    "    return val\n",
    "\n",
    "def get_mirrored_flipping_value(val):\n",
    "#     return int(get_flipping_value(val) - 2*(get_flipping_value(val) - val*1.25))\n",
    "    flipped = get_flipping_value(val)\n",
    "    b = val + (val >> 2)\n",
    "    a = (flipped - b) << 1\n",
    "    return flipped - a - 1 \n",
    "\n",
    "def get_close_flipping_value(val):\n",
    "    # 2**x + ((mflip - 2**x) >> 2)\n",
    "    return val + ((get_mirrored_flipping_value(val) - val) >> 2)"
   ]
  },
  {
   "cell_type": "code",
   "execution_count": null,
   "metadata": {},
   "outputs": [],
   "source": [
    "def get_closest_pow_2(val):\n",
    "    next_smaller = next_smaller_pow_two(val)\n",
    "    diff_smaller = val - next_smaller\n",
    "    next_bigger = next_bigger_pow_two(val)\n",
    "    diff_bigger = next_bigger - val\n",
    "    if diff_bigger < diff_smaller:\n",
    "        return next_bigger\n",
    "    else:\n",
    "        return next_smaller\n",
    "\n",
    "def next_bigger_pow_two(val):\n",
    "    return 1 << len(np.binary_repr(val))\n",
    "\n",
    "def next_smaller_pow_two(val):\n",
    "    return 1 << len(np.binary_repr(val)) - 1"
   ]
  },
  {
   "cell_type": "code",
   "execution_count": null,
   "metadata": {},
   "outputs": [],
   "source": [
    "def get_shifted_goal(val, method='closest', mode='flip'):\n",
    "    # Calculate power of two on which the shift should be based\n",
    "    if val != 0 and val & (val-1) == 0:\n",
    "        val = val\n",
    "    elif method in ('closest', 'c'):\n",
    "        val = get_closest_pow_2(val)\n",
    "    elif method in ('smaller', 's'):\n",
    "        val = next_smaller_pow_two(val)\n",
    "    elif method in ('bigger', 'b'):\n",
    "        val = next_bigger_pow_two(val)\n",
    "    else:\n",
    "        raise Exception(\"Could not understand method '{}'\".format(method))\n",
    "    \n",
    "    if mode == 'flip':\n",
    "        return get_flipping_value(val)\n",
    "    elif mode == 'mflip':\n",
    "        return get_mirrored_flipping_value(val)\n",
    "    elif mode == 'cflip':\n",
    "        return get_close_flipping_value(val)\n",
    "    else:\n",
    "        raise Exception(\"Could not understand mode '{}'\".format(mode))    "
   ]
  },
  {
   "cell_type": "markdown",
   "metadata": {},
   "source": [
    "# LZC($\\mu$)"
   ]
  },
  {
   "cell_type": "code",
   "execution_count": null,
   "metadata": {},
   "outputs": [],
   "source": [
    "mu = np.arange(1000)\n",
    "sigma1 =  64 * mu\n",
    "sigma2 = 128 * mu\n",
    "sigma3 = 256 * mu\n",
    "sigma4 = 512 * mu\n",
    "\n",
    "result1_x_is_mu = [mean_lzc(m,o) for m,o in zip(mu,sigma1)]\n",
    "result2_x_is_mu = [mean_lzc(m,o) for m,o in zip(mu,sigma2)]\n",
    "result3_x_is_mu = [mean_lzc(m,o) for m,o in zip(mu,sigma3)]\n",
    "result4_x_is_mu = [mean_lzc(m,o) for m,o in zip(mu,sigma4)]\n",
    "\n",
    "factors = [1.75,1.625,1.5,1.25,1.125,1]\n",
    "fcolors = ['crimson','magenta','skyblue','limegreen','olivedrab', 'goldenrod']\n",
    "\n",
    "# LZC(mu)\n",
    "_, ax = plt.subplots(figsize=(15,5))\n",
    "sns.lineplot(data=pd.DataFrame({'$\\sigma = 64 \\cdot \\mu$':result1_x_is_mu, '$\\sigma = 128 \\cdot \\mu$':result2_x_is_mu, \n",
    "                                '$\\sigma = 256 \\cdot \\mu$':result3_x_is_mu, '$\\sigma = 512 \\cdot \\mu$':result4_x_is_mu})[1:])\n",
    "plt.legend()\n",
    "plt.title(\"LZC($\\mu$)\")\n",
    "ax.set_xlabel(\"$\\mu$ of random normal distribution\")\n",
    "ax.set_ylabel(\"Average LZC count of distribution\")\n",
    "# plt.savefig('lzc_mu_set2.svg')\n",
    "plt.show()"
   ]
  },
  {
   "cell_type": "code",
   "execution_count": null,
   "metadata": {},
   "outputs": [],
   "source": [
    "mu = np.arange(1000)\n",
    "sigma1 = [1] * mu.size\n",
    "sigma2 = np.sqrt(mu)\n",
    "sigma3 = 1./mu\n",
    "sigma4 = [10] * mu\n",
    "\n",
    "result1_x_is_mu = [mean_lzc(m,o) for m,o in zip(mu,sigma1)]\n",
    "result2_x_is_mu = [mean_lzc(m,o) for m,o in zip(mu,sigma2)]\n",
    "result3_x_is_mu = [mean_lzc(m,o) for m,o in zip(mu,sigma3)]\n",
    "result4_x_is_mu = [mean_lzc(m,o) for m,o in zip(mu,sigma4)]\n",
    "\n",
    "factors = [1.75,1.625,1.5,1.25,1.125,1]\n",
    "fcolors = ['crimson','magenta','skyblue','limegreen','olivedrab', 'goldenrod']\n",
    "\n",
    "# LZC(mu)\n",
    "_, ax = plt.subplots(figsize=(15,5))\n",
    "sns.lineplot(data=pd.DataFrame({'$\\sigma = 1$':result1_x_is_mu, '$\\sigma = \\sqrt{\\mu}$':result2_x_is_mu, \n",
    "                                '$\\sigma = \\mu^{-1}$':result3_x_is_mu, '$\\sigma = 10$':result4_x_is_mu})[1:])\n",
    "# for x in range(4,10):\n",
    "#     flip = get_shifted_goal(2**x, method='c', mode='flip')\n",
    "#     mflip = get_shifted_goal(2**x, method='c', mode='mflip')\n",
    "#     cflip = get_shifted_goal(2**x, method='c', mode='cflip')\n",
    "#     _ = plt.axvline(2**x, alpha=.5, color=fcolors[x-4], ls=\":\")\n",
    "#     _ = plt.axvline(flip, alpha=.5, color=fcolors[x-4], ls=\"-\")\n",
    "#     _ = plt.axvline(mflip, alpha=.5, color=fcolors[x-4], ls=\"-\")\n",
    "#     _ = plt.axvline(cflip, alpha=.5, color=fcolors[x-4], ls=\"-\")\n",
    "    \n",
    "plt.legend()\n",
    "plt.title(\"LZC($\\mu$)\")\n",
    "ax.set_xlabel(\"$\\mu$ of random normal distribution\")\n",
    "ax.set_ylabel(\"Average LZC count of distribution\")\n",
    "# plt.savefig('lzc_mu_set2.svg')\n",
    "plt.show()"
   ]
  },
  {
   "cell_type": "code",
   "execution_count": null,
   "metadata": {},
   "outputs": [],
   "source": [
    "# LZC(mu)\n",
    "_, ax = plt.subplots(figsize=(15,5))\n",
    "sns.lineplot(data=pd.DataFrame({'$\\sigma = 1$':result1_x_is_mu, '$\\sigma = \\sqrt{\\mu}$':result2_x_is_mu, \n",
    "                                '$\\sigma = \\mu^{-1}$':result3_x_is_mu, '$\\sigma = 10$':result4_x_is_mu})[1:])\n",
    "# for x in range(4,10):\n",
    "#     flip = get_shifted_goal(2**x, method='c', mode='flip')\n",
    "#     mflip = get_shifted_goal(2**x, method='c', mode='mflip')\n",
    "#     cflip = get_shifted_goal(2**x, method='c', mode='cflip')\n",
    "#     _ = plt.axvline(2**x, alpha=.5, color=fcolors[x-4], ls=\":\")\n",
    "#     _ = plt.axvline(flip, alpha=.5, color=fcolors[x-4], ls=\"-\")\n",
    "#     _ = plt.axvline(mflip, alpha=.5, color=fcolors[x-4], ls=\"-\")\n",
    "#     _ = plt.axvline(cflip, alpha=.5, color=fcolors[x-4], ls=\"-\")\n",
    "plt.xlim((480, 700))\n",
    "plt.legend()\n",
    "plt.title(\"LZC($\\mu$) for $\\mu \\in [480;700)$\")\n",
    "ax.set_xlabel(\"$\\mu$ of random normal distribution\")\n",
    "ax.set_ylabel(\"Average LZC count of distribution\")\n",
    "# plt.savefig('lzc_mu_set2_zoom.svg')\n",
    "plt.show()"
   ]
  },
  {
   "cell_type": "code",
   "execution_count": null,
   "metadata": {},
   "outputs": [],
   "source": [
    "mu = np.arange(1000)\n",
    "sigma1 = mu*.20\n",
    "sigma2 = mu*.10\n",
    "sigma3 = mu*.05\n",
    "sigma4 = mu*.01\n",
    "\n",
    "result1_x_is_mu = [mean_lzc(m,o) for m,o in zip(mu,sigma1)]\n",
    "result2_x_is_mu = [mean_lzc(m,o) for m,o in zip(mu,sigma2)]\n",
    "result3_x_is_mu = [mean_lzc(m,o) for m,o in zip(mu,sigma3)]\n",
    "result4_x_is_mu = [mean_lzc(m,o) for m,o in zip(mu,sigma4)]\n",
    "\n",
    "factors = [1.75,1.625,1.5,1.25,1.125,1]\n",
    "fcolors = ['crimson','magenta','skyblue','limegreen','olivedrab', 'goldenrod']\n",
    "\n",
    "# LZC(mu)\n",
    "_, ax = plt.subplots(figsize=(15,5))\n",
    "sns.lineplot(data=pd.DataFrame({'$\\sigma = 0.20 \\cdot \\mu$':result1_x_is_mu, '$\\sigma = 0.10 \\cdot \\mu$':result2_x_is_mu, \n",
    "                                '$\\sigma = 0.05 \\cdot \\mu$':result3_x_is_mu, '$\\sigma = 0.01 \\cdot \\mu$':result4_x_is_mu})[1:])\n",
    "# for i,f in enumerate(factors):\n",
    "#     [plt.axvline(2**x*f, alpha=.5, color=fcolors[i], ls=\":\") for x in range(4,10)];\n",
    "plt.legend()\n",
    "plt.title(\"LZC($\\mu$)\")\n",
    "ax.set_xlabel(\"$\\mu$ of random normal distribution\")\n",
    "ax.set_ylabel(\"Average LZC count of distribution\")\n",
    "# plt.savefig('lzc_mu_set2.svg')\n",
    "plt.show()"
   ]
  },
  {
   "cell_type": "code",
   "execution_count": null,
   "metadata": {},
   "outputs": [],
   "source": [
    "# Vertical lines at above plot\n",
    "base = 128\n",
    "for i,f in enumerate(factors):\n",
    "    print(\"{:.4f} {:>9} {:>10}\".format(f, np.binary_repr(int(base*f), 8), fcolors[i]))"
   ]
  },
  {
   "cell_type": "markdown",
   "metadata": {},
   "source": [
    "# LZC($\\mu$) with shift goals"
   ]
  },
  {
   "cell_type": "code",
   "execution_count": null,
   "metadata": {},
   "outputs": [],
   "source": [
    "# LZC(mu)\n",
    "_, ax = plt.subplots(figsize=(15,5))\n",
    "sns.lineplot(data=pd.DataFrame({'$\\sigma = 0.20 \\cdot \\mu$':result1_x_is_mu, '$\\sigma = 0.10 \\cdot \\mu$':result2_x_is_mu, \n",
    "                                '$\\sigma = 0.05 \\cdot \\mu$':result3_x_is_mu, '$\\sigma = 0.01 \\cdot \\mu$':result4_x_is_mu})[1:])\n",
    "for x in range(4,10):\n",
    "    flip = get_shifted_goal(2**x, method='c', mode='flip')\n",
    "    mflip = get_shifted_goal(2**x, method='c', mode='mflip')\n",
    "    cflip = get_shifted_goal(2**x, method='c', mode='cflip')\n",
    "    _ = plt.axvline(2**x, alpha=.5, color=fcolors[x-4], ls=\":\")\n",
    "    _ = plt.axvline(flip, alpha=.5, color=fcolors[x-4], ls=\"-\")\n",
    "    _ = plt.axvline(mflip, alpha=.5, color=fcolors[x-4], ls=\"-\")\n",
    "    _ = plt.axvline(cflip, alpha=.5, color=fcolors[x-4], ls=\"-\")\n",
    "plt.legend()\n",
    "plt.title(\"LZC($\\mu$)\")\n",
    "ax.set_xlabel(\"$\\mu$ of random normal distribution\")\n",
    "ax.set_ylabel(\"Average LZC count of distribution\")\n",
    "# plt.savefig('lzc_mu.svg')\n",
    "plt.show()"
   ]
  },
  {
   "cell_type": "code",
   "execution_count": null,
   "metadata": {},
   "outputs": [],
   "source": [
    "x = 512\n",
    "(f,mf,cf) = (get_shifted_goal(x, method='c', mode='flip'), \n",
    "             get_shifted_goal(x, method='c', mode='mflip'),\n",
    "             get_shifted_goal(x, method='c', mode='cflip')\n",
    "            )"
   ]
  },
  {
   "cell_type": "code",
   "execution_count": null,
   "metadata": {},
   "outputs": [],
   "source": [
    "[(r, np.binary_repr(r)) for r in [x,cf,mf,f]]"
   ]
  },
  {
   "cell_type": "markdown",
   "metadata": {},
   "source": [
    "# LZC($\\mu$) using greycodes"
   ]
  },
  {
   "cell_type": "code",
   "execution_count": null,
   "metadata": {},
   "outputs": [],
   "source": [
    "def _to_grey(num):\n",
    "    return num ^ (num >> 1)\n",
    "to_grey = np.frompyfunc(_to_grey, 1, 1)\n",
    "\n",
    "def _from_grey(num):\n",
    "    number = num;\n",
    "    mask = number >> 1;\n",
    "    while mask != 0:\n",
    "        number = number ^ mask;\n",
    "        mask = mask >> 1;\n",
    "    return number\n",
    "\n",
    "def mean_grey_lzc(m, o, fn=to_grey):\n",
    "    dist = np.random.normal(m,o,size=1000)\n",
    "    truth = to_u32(m)\n",
    "    vals = to_u32v(dist)\n",
    "    vals = fn(vals)\n",
    "    xors = npxor(vals, fn(truth))\n",
    "    lzcs = lzcv(xors).astype('uint8')\n",
    "    return lzcs.mean()\n",
    "\n",
    "def lzc_grey_arr(m, o, fn=to_grey):\n",
    "    dist = np.random.normal(m,o,size=1000)\n",
    "    truth = to_u32(m)\n",
    "    vals = to_u32v(dist)\n",
    "    vals = fn(vals)\n",
    "    xors = npxor(vals, fn(truth))\n",
    "    lzcs = lzcv(xors).astype('uint8')\n",
    "    return lzcs\n",
    "\n",
    "def lzc_arr(m, o):\n",
    "    dist = np.random.normal(m,o,size=1000)\n",
    "    truth = to_u32(m)\n",
    "    vals = to_u32v(dist)\n",
    "    xors = npxor(vals, truth)\n",
    "    lzcs = lzcv(xors).astype('uint8')\n",
    "    return lzcs"
   ]
  },
  {
   "cell_type": "code",
   "execution_count": null,
   "metadata": {},
   "outputs": [],
   "source": [
    "mu = np.arange(1000)\n",
    "sigma1 = mu*.20\n",
    "sigma2 = mu*.10\n",
    "sigma3 = mu*.05\n",
    "sigma4 = mu*.01\n",
    "\n",
    "result1_x_is_mu = [mean_grey_lzc(m,o) for m,o in zip(mu,sigma1)]\n",
    "result2_x_is_mu = [mean_grey_lzc(m,o) for m,o in zip(mu,sigma2)]\n",
    "result3_x_is_mu = [mean_grey_lzc(m,o) for m,o in zip(mu,sigma3)]\n",
    "result4_x_is_mu = [mean_grey_lzc(m,o) for m,o in zip(mu,sigma4)]\n",
    "\n",
    "factors = [1.75,1.625,1.5,1.25,1.125,1]\n",
    "fcolors = ['crimson','magenta','skyblue','limegreen','olivedrab', 'goldenrod']"
   ]
  },
  {
   "cell_type": "code",
   "execution_count": null,
   "metadata": {},
   "outputs": [],
   "source": [
    "# LZC(mu)\n",
    "_, ax = plt.subplots(figsize=(15,5))\n",
    "sns.lineplot(data=pd.DataFrame({'$\\sigma = 0.20 \\cdot \\mu$':result1_x_is_mu, '$\\sigma = 0.10 \\cdot \\mu$':result2_x_is_mu, \n",
    "                                '$\\sigma = 0.05 \\cdot \\mu$':result3_x_is_mu, '$\\sigma = 0.01 \\cdot \\mu$':result4_x_is_mu})[1:])\n",
    "for x in range(4,10):\n",
    "    flip = get_shifted_goal(2**x, method='c', mode='flip')\n",
    "    mflip = get_shifted_goal(2**x, method='c', mode='mflip')\n",
    "    cflip = get_shifted_goal(2**x, method='c', mode='cflip')\n",
    "    _ = plt.axvline(2**x, alpha=.5, color=fcolors[x-4], ls=\":\")\n",
    "    _ = plt.axvline(flip, alpha=.5, color=fcolors[x-4], ls=\"-\")\n",
    "    _ = plt.axvline(mflip, alpha=.5, color=fcolors[x-4], ls=\"-\")\n",
    "    _ = plt.axvline(cflip, alpha=.5, color=fcolors[x-4], ls=\"-\")\n",
    "plt.legend()\n",
    "plt.title(\"LZC($\\mu$) using grey codes\")\n",
    "ax.set_xlabel(\"$\\mu$ of random normal distribution\")\n",
    "ax.set_ylabel(\"Average LZC count of distribution\")\n",
    "# plt.savefig('lzc_mu_set2.svg')\n",
    "plt.show()"
   ]
  },
  {
   "cell_type": "code",
   "execution_count": null,
   "metadata": {},
   "outputs": [],
   "source": [
    "for v in [2**x, cflip, mflip, flip]:\n",
    "    print(v, np.binary_repr(v), to_grey(v), np.binary_repr(to_grey(v)))"
   ]
  },
  {
   "cell_type": "code",
   "execution_count": null,
   "metadata": {},
   "outputs": [],
   "source": [
    "np.binary_repr(3 << 30, 32)"
   ]
  },
  {
   "cell_type": "code",
   "execution_count": null,
   "metadata": {},
   "outputs": [],
   "source": [
    "np.binary_repr((4294967295 >> 5) + (3 << 30), 32)"
   ]
  },
  {
   "cell_type": "code",
   "execution_count": null,
   "metadata": {},
   "outputs": [],
   "source": [
    "int(\"1100\"*2, 2)"
   ]
  },
  {
   "cell_type": "markdown",
   "metadata": {},
   "source": [
    "## LZC($\\mu$) Analysis of potential manipulations of greycodes"
   ]
  },
  {
   "cell_type": "code",
   "execution_count": null,
   "metadata": {},
   "outputs": [],
   "source": [
    "def to_grey_with_shift(val):\n",
    "    temp = to_grey(val)\n",
    "    return temp + 512\n",
    "\n",
    "m, s = 512, 10\n",
    "fn = to_grey_with_shift\n",
    "dict(mglzc=mean_grey_lzc(get_close_flipping_value(m), s, fn).mean(), \n",
    "     mlzc=mean_lzc_group(get_close_flipping_value(m), s).mean()\n",
    ")"
   ]
  },
  {
   "cell_type": "code",
   "execution_count": null,
   "metadata": {},
   "outputs": [],
   "source": [
    "val = 512\n",
    "for k in [val-1, val, val+1]:\n",
    "    print(k, np.binary_repr(k), np.binary_repr(to_grey(k)))\n",
    "print('')\n",
    "for i in range(-10,10):\n",
    "    k = val - i\n",
    "    kn = k\n",
    "    print(\"{:03} {:0>10} {:0>10}\".format(k, np.binary_repr(kn), np.binary_repr(to_grey(kn))))"
   ]
  },
  {
   "cell_type": "markdown",
   "metadata": {},
   "source": [
    "# LZC($\\sigma$)"
   ]
  },
  {
   "cell_type": "code",
   "execution_count": null,
   "metadata": {},
   "outputs": [],
   "source": [
    "sigma = np.arange(1000)\n",
    "mu1 = 10 * sigma\n",
    "mu2 = 50 * sigma\n",
    "mu3 = 100 * sigma\n",
    "mu4 = 500 * sigma\n",
    "\n",
    "result1_x_is_sigma = [mean_lzc(m,o) for m,o in zip(mu1,sigma)]\n",
    "result2_x_is_sigma = [mean_lzc(m,o) for m,o in zip(mu2,sigma)]\n",
    "result3_x_is_sigma = [mean_lzc(m,o) for m,o in zip(mu3,sigma)]\n",
    "result4_x_is_sigma = [mean_lzc(m,o) for m,o in zip(mu4,sigma)]"
   ]
  },
  {
   "cell_type": "code",
   "execution_count": null,
   "metadata": {},
   "outputs": [],
   "source": [
    "# LZC(sigma)\n",
    "_, ax = plt.subplots(figsize=(15,5))\n",
    "df = pd.DataFrame({'$\\mu =  10 \\cdot \\sigma$':result1_x_is_sigma, \n",
    "                   '$\\mu =  50 \\cdot \\sigma$':result2_x_is_sigma, \n",
    "                   '$\\mu = 100 \\cdot \\sigma$':result3_x_is_sigma, \n",
    "                   '$\\mu = 500 \\cdot \\sigma$':result4_x_is_sigma,\n",
    "})\n",
    "sns.lineplot(data=df[3:])\n",
    "for i,f in enumerate(factors):\n",
    "    [plt.axvline(128*f, alpha=.5, color=fcolors[i], ls=\":\")];\n",
    "plt.legend()\n",
    "plt.title(\"LZC($\\sigma$) using grey codes\")\n",
    "ax.set_xlabel(\"$\\sigma$ of random normal distribution\")\n",
    "ax.set_ylabel(\"Average LZC count of distribution\")\n",
    "# plt.savefig('lzc_mu_set2.svg')\n",
    "plt.show()"
   ]
  },
  {
   "cell_type": "code",
   "execution_count": null,
   "metadata": {},
   "outputs": [],
   "source": [
    "sigma = np.arange(1000)\n",
    "mu1 = [128 * 2] * sigma.size\n",
    "mu2 = [128 * 1.5] * sigma.size\n",
    "mu3 = [128 * 1.125] * sigma.size\n",
    "mu4 = [128] * sigma.size\n",
    "\n",
    "result1_x_is_sigma = [mean_lzc(m,o) for m,o in zip(mu1,sigma)]\n",
    "result2_x_is_sigma = [mean_lzc(m,o) for m,o in zip(mu2,sigma)]\n",
    "result3_x_is_sigma = [mean_lzc(m,o) for m,o in zip(mu3,sigma)]\n",
    "result4_x_is_sigma = [mean_lzc(m,o) for m,o in zip(mu4,sigma)]"
   ]
  },
  {
   "cell_type": "code",
   "execution_count": null,
   "metadata": {},
   "outputs": [],
   "source": [
    "# LZC(sigma)\n",
    "_, ax = plt.subplots(figsize=(15,5))\n",
    "df = pd.DataFrame({\"$\\mu = {}$\".format(int(mu1[0])):result1_x_is_sigma, \n",
    "                   \"$\\mu = {}$\".format(int(mu2[0])):result2_x_is_sigma, \n",
    "                   \"$\\mu = {}$\".format(int(mu3[0])):result3_x_is_sigma, \n",
    "                   \"$\\mu = {}$\".format(int(mu4[0])):result4_x_is_sigma,\n",
    "})\n",
    "sns.lineplot(data=df[2:])\n",
    "plt.legend()\n",
    "plt.title(\"LZC($\\sigma$) using grey codes\")\n",
    "ax.set_xlabel(\"$\\sigma$ of random normal distribution\")\n",
    "ax.set_ylabel(\"Average LZC count of distribution\")\n",
    "# plt.savefig('lzc_mu_set2.svg')\n",
    "plt.show()"
   ]
  },
  {
   "cell_type": "code",
   "execution_count": null,
   "metadata": {},
   "outputs": [],
   "source": [
    "# Vertical lines at above plot\n",
    "base = 128\n",
    "for i,f in enumerate(factors):\n",
    "    print(\"{:.4f} {:>9} {:>10}\".format(f, np.binary_repr(int(base*f), 8), fcolors[i]))"
   ]
  },
  {
   "cell_type": "markdown",
   "metadata": {},
   "source": [
    "# $\\sigma$ for different climate data\n",
    "\n",
    "This part of the analysis must be specified more in detail. Espacially being specific about what should be analyzed. Options are:\n",
    "\n",
    "- Mean/Std of residuals?\n",
    "- Mean/Std of LZC of residuals?\n",
    "- Mean/Std of Error of predictor?"
   ]
  },
  {
   "cell_type": "code",
   "execution_count": null,
   "metadata": {},
   "outputs": [],
   "source": [
    "from glob import glob"
   ]
  },
  {
   "cell_type": "code",
   "execution_count": null,
   "metadata": {},
   "outputs": [],
   "source": [
    "def describe_data(regex):\n",
    "#     \n",
    "    residual_files = glob(regex)\n",
    "    df = pd.DataFrame(index=['mean', 'std'])\n",
    "\n",
    "    for k in residual_files:\n",
    "        data = np.fromfile(k, dtype='uint32')\n",
    "        ps = lzcv(data)\n",
    "        mean = ps.mean()\n",
    "        std = ps.std()\n",
    "        df[k[2:]] = [mean, std]\n",
    "\n",
    "    df = df.T\n",
    "    df['pcent'] = (df['std'] / df['mean']) * 100\n",
    "    return df\n",
    "\n",
    "def describe_lzc_data(regex):\n",
    "    residual_files = sorted(glob(regex))\n",
    "    df = pd.DataFrame(index=['mean', 'std'])\n",
    "\n",
    "    for k in residual_files:\n",
    "        data = np.fromfile(k, dtype='uint32')\n",
    "        ps = ps.Series(data)\n",
    "        mean = ps.mean()\n",
    "        std = ps.std()\n",
    "        df[k[2:]] = [mean, std]\n",
    "\n",
    "    df = df.T\n",
    "    df['pcent'] = (df['std'] / df['mean']) * 100\n",
    "    return df"
   ]
  },
  {
   "cell_type": "code",
   "execution_count": null,
   "metadata": {},
   "outputs": [],
   "source": [
    "# describe_data(\"./*.residual\")"
   ]
  },
  {
   "cell_type": "code",
   "execution_count": null,
   "metadata": {},
   "outputs": [],
   "source": [
    "# describe_data('../../pzip/data/*.raw')"
   ]
  },
  {
   "cell_type": "code",
   "execution_count": null,
   "metadata": {},
   "outputs": [],
   "source": [
    "# describe_data(\"./*.bplanes\")"
   ]
  },
  {
   "cell_type": "code",
   "execution_count": null,
   "metadata": {},
   "outputs": [],
   "source": [
    "# describe_data(\"./*.nlzc\")"
   ]
  },
  {
   "cell_type": "code",
   "execution_count": null,
   "metadata": {},
   "outputs": [],
   "source": [
    "# df = describe_data('./*.residual')"
   ]
  },
  {
   "cell_type": "code",
   "execution_count": null,
   "metadata": {},
   "outputs": [],
   "source": [
    "# df['mean'].plot()"
   ]
  }
 ],
 "metadata": {
  "kernelspec": {
   "display_name": "Python 3",
   "language": "python",
   "name": "python3"
  },
  "language_info": {
   "codemirror_mode": {
    "name": "ipython",
    "version": 3
   },
   "file_extension": ".py",
   "mimetype": "text/x-python",
   "name": "python",
   "nbconvert_exporter": "python",
   "pygments_lexer": "ipython3",
   "version": "3.6.6"
  }
 },
 "nbformat": 4,
 "nbformat_minor": 2
}
