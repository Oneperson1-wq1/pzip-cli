{
 "cells": [
  {
   "cell_type": "code",
   "execution_count": null,
   "metadata": {},
   "outputs": [],
   "source": [
    "import numpy as np\n",
    "import pandas as pd\n",
    "import struct\n",
    "from matplotlib import pyplot as plt\n",
    "import seaborn as sns\n",
    "%matplotlib inline"
   ]
  },
  {
   "cell_type": "code",
   "execution_count": null,
   "metadata": {},
   "outputs": [],
   "source": [
    "npxor = np.frompyfunc(np.bitwise_xor, 2, 1)"
   ]
  },
  {
   "cell_type": "code",
   "execution_count": null,
   "metadata": {},
   "outputs": [],
   "source": [
    "def lzc(t):\n",
    "    return 32 - len(np.binary_repr(t))\n",
    "lzcv = np.frompyfunc(lzc, 1, 1)"
   ]
  },
  {
   "cell_type": "code",
   "execution_count": null,
   "metadata": {},
   "outputs": [],
   "source": [
    "def to_u32(f):\n",
    "    s = struct.pack('>f',f)\n",
    "    return struct.unpack('>l', s)[0]\n",
    "to_u32v = np.frompyfunc(to_u32, 1, 1)"
   ]
  },
  {
   "cell_type": "code",
   "execution_count": null,
   "metadata": {
    "scrolled": false
   },
   "outputs": [],
   "source": [
    "def mean_lzc(m, o):\n",
    "    dist = np.random.normal(m,o,size=1000)\n",
    "    truth = to_u32(m)\n",
    "    vals = to_u32v(dist)\n",
    "    xors = npxor(vals, truth)\n",
    "    lzcs = lzcv(xors)\n",
    "    return lzcs.mean()"
   ]
  },
  {
   "cell_type": "markdown",
   "metadata": {},
   "source": [
    "## TODO\n",
    "\n",
    "- [x] Plot LZC($\\mu$)\n",
    "- [x] Plot LZC($\\sigma$)\n",
    "- [ ] Find out with what $\\sigma$ we are working for different predictors for climate data\n",
    "- [ ] Plot compression ratio dependency of $\\mu$\n",
    "- [ ] Plot compression ratio dependency of $\\sigma$\n",
    "- [x] Mark the 0101010101 shift values in the plot\n",
    "- [x] Mark the 1010101010 shift values in the plot"
   ]
  },
  {
   "cell_type": "markdown",
   "metadata": {},
   "source": [
    "# LZC($\\mu$)"
   ]
  },
  {
   "cell_type": "code",
   "execution_count": null,
   "metadata": {},
   "outputs": [],
   "source": [
    "mu = np.arange(1000)\n",
    "sigma1 =  64 * mu\n",
    "sigma2 = 128 * mu\n",
    "sigma3 = 256 * mu\n",
    "sigma4 = 512 * mu\n",
    "\n",
    "result1_x_is_mu = [mean_lzc(m,o) for m,o in zip(mu,sigma1)]\n",
    "result2_x_is_mu = [mean_lzc(m,o) for m,o in zip(mu,sigma2)]\n",
    "result3_x_is_mu = [mean_lzc(m,o) for m,o in zip(mu,sigma3)]\n",
    "result4_x_is_mu = [mean_lzc(m,o) for m,o in zip(mu,sigma4)]\n",
    "\n",
    "factors = [1.75,1.625,1.5,1.25,1.125,1]\n",
    "fcolors = ['crimson','magenta','skyblue','limegreen','olivedrab', 'goldenrod']\n",
    "\n",
    "# LZC(mu)\n",
    "_, ax = plt.subplots(figsize=(15,5))\n",
    "sns.lineplot(data=pd.DataFrame({' x64':result1_x_is_mu, 'x128':result2_x_is_mu, \n",
    "                                'x256':result3_x_is_mu, 'x512':result4_x_is_mu})[1:])\n",
    "for i,f in enumerate(factors):\n",
    "    [plt.axvline(2**x*f, alpha=.5, color=fcolors[i], ls=\":\") for x in range(4,10)];\n",
    "plt.legend();"
   ]
  },
  {
   "cell_type": "code",
   "execution_count": null,
   "metadata": {},
   "outputs": [],
   "source": [
    "mu = np.arange(1000)\n",
    "sigma1 = mu*.20\n",
    "sigma2 = mu*.10\n",
    "sigma3 = mu*.05\n",
    "sigma4 = mu*.01\n",
    "\n",
    "result1_x_is_mu = [mean_lzc(m,o) for m,o in zip(mu,sigma1)]\n",
    "result2_x_is_mu = [mean_lzc(m,o) for m,o in zip(mu,sigma2)]\n",
    "result3_x_is_mu = [mean_lzc(m,o) for m,o in zip(mu,sigma3)]\n",
    "result4_x_is_mu = [mean_lzc(m,o) for m,o in zip(mu,sigma4)]\n",
    "\n",
    "factors = [1.75,1.625,1.5,1.25,1.125,1]\n",
    "fcolors = ['crimson','magenta','skyblue','limegreen','olivedrab', 'goldenrod']\n",
    "\n",
    "# LZC(mu)\n",
    "_, ax = plt.subplots(figsize=(15,5))\n",
    "sns.lineplot(data=pd.DataFrame({'20%':result1_x_is_mu, '10%':result2_x_is_mu, \n",
    "                                ' 5%':result3_x_is_mu, ' 1%':result4_x_is_mu})[1:])\n",
    "for i,f in enumerate(factors):\n",
    "    [plt.axvline(2**x*f, alpha=.5, color=fcolors[i], ls=\":\") for x in range(4,10)];\n",
    "plt.legend();"
   ]
  },
  {
   "cell_type": "code",
   "execution_count": null,
   "metadata": {},
   "outputs": [],
   "source": [
    "# Vertical lines at above plot\n",
    "base = 128\n",
    "for i,f in enumerate(factors):\n",
    "    print(\"{:.4f} {:>9} {:>10}\".format(f, np.binary_repr(int(base*f), 8), fcolors[i]))"
   ]
  },
  {
   "cell_type": "markdown",
   "metadata": {},
   "source": [
    "# LZC($\\sigma$)"
   ]
  },
  {
   "cell_type": "code",
   "execution_count": null,
   "metadata": {},
   "outputs": [],
   "source": [
    "sigma = np.arange(1000)\n",
    "mu1 = 10 * sigma\n",
    "mu2 = 50 * sigma\n",
    "mu3 = 100 * sigma\n",
    "mu4 = 500 * sigma\n",
    "# mu_test = [175] * sigma.size  # because of the high gap @x~175\n",
    "# mu_corr = [get_flipping_value(128)] *sigma.size\n",
    "\n",
    "result1_x_is_sigma = [mean_lzc(m,o) for m,o in zip(mu1,sigma)]\n",
    "result2_x_is_sigma = [mean_lzc(m,o) for m,o in zip(mu2,sigma)]\n",
    "result3_x_is_sigma = [mean_lzc(m,o) for m,o in zip(mu3,sigma)]\n",
    "result4_x_is_sigma = [mean_lzc(m,o) for m,o in zip(mu4,sigma)]\n",
    "# result_test = [mean_lzc(m,o) for m,o in zip(mu_test,sigma)]\n",
    "# result_corr = [mean_lzc(m,o) for m,o in zip(mu_corr,sigma)]\n",
    "\n",
    "# LZC(sigma)\n",
    "_, ax = plt.subplots(figsize=(15,5))\n",
    "df = pd.DataFrame({' x10':result1_x_is_sigma, \n",
    "                   ' x50':result2_x_is_sigma, \n",
    "                   'x100':result3_x_is_sigma, \n",
    "                   'x500':result4_x_is_sigma, \n",
    "#                    mu_test[0]:result_test, \n",
    "#                    mu_corr[0]:result_corr\n",
    "})\n",
    "sns.lineplot(data=df[100:])\n",
    "for i,f in enumerate(factors):\n",
    "    [plt.axvline(128*f, alpha=.5, color=fcolors[i], ls=\":\")];\n",
    "plt.legend();"
   ]
  },
  {
   "cell_type": "code",
   "execution_count": null,
   "metadata": {},
   "outputs": [],
   "source": [
    "sigma = np.arange(1000)\n",
    "mu1 = [128 * 2] * sigma.size\n",
    "mu2 = [128 * 1.5] * sigma.size\n",
    "mu3 = [128 * 1.125] * sigma.size\n",
    "mu4 = [128] * sigma.size\n",
    "# mu_test = [175] * sigma.size  # because of the high gap @x~175\n",
    "# mu_corr = [get_flipping_value(128)] *sigma.size\n",
    "\n",
    "result1_x_is_sigma = [mean_lzc(m,o) for m,o in zip(mu1,sigma)]\n",
    "result2_x_is_sigma = [mean_lzc(m,o) for m,o in zip(mu2,sigma)]\n",
    "result3_x_is_sigma = [mean_lzc(m,o) for m,o in zip(mu3,sigma)]\n",
    "result4_x_is_sigma = [mean_lzc(m,o) for m,o in zip(mu4,sigma)]\n",
    "# result_test = [mean_lzc(m,o) for m,o in zip(mu_test,sigma)]\n",
    "# result_corr = [mean_lzc(m,o) for m,o in zip(mu_corr,sigma)]\n",
    "\n",
    "# LZC(sigma)\n",
    "_, ax = plt.subplots(figsize=(15,5))\n",
    "df = pd.DataFrame({mu1[0]:result1_x_is_sigma, \n",
    "                   mu2[0]:result2_x_is_sigma, \n",
    "                   mu3[0]:result3_x_is_sigma, \n",
    "                   mu4[0]:result4_x_is_sigma, \n",
    "#                    mu_test[0]:result_test, \n",
    "#                    mu_corr[0]:result_corr\n",
    "})\n",
    "sns.lineplot(data=df[100:])\n",
    "for i,f in enumerate(factors):\n",
    "    [plt.axvline(128*f, alpha=.5, color=fcolors[i], ls=\":\")];\n",
    "plt.legend();"
   ]
  },
  {
   "cell_type": "code",
   "execution_count": null,
   "metadata": {},
   "outputs": [],
   "source": [
    "# Vertical lines at above plot\n",
    "base = 128\n",
    "for i,f in enumerate(factors):\n",
    "    print(\"{:.4f} {:>9} {:>10}\".format(f, np.binary_repr(int(base*f), 8), fcolors[i]))"
   ]
  },
  {
   "cell_type": "markdown",
   "metadata": {},
   "source": [
    "# Calculate shift goals"
   ]
  },
  {
   "cell_type": "code",
   "execution_count": null,
   "metadata": {},
   "outputs": [],
   "source": [
    "def get_flipping_value(val):\n",
    "    assert val & (val-1) == 0, \"Not power of two\"\n",
    "    i = len(np.binary_repr(val)) - 3\n",
    "    while i >= 0:\n",
    "        val += 1 << i\n",
    "        i -= 2\n",
    "    return val\n",
    "\n",
    "def get_mirrored_flipping_value(val, version=0):\n",
    "#     return int(get_flipping_value(val) - 2*(get_flipping_value(val) - val*1.25))\n",
    "    flipped = get_flipping_value(val)\n",
    "    b = val + (val >> 2)\n",
    "    a = (flipped - b) << 1\n",
    "    return flipped - a"
   ]
  },
  {
   "cell_type": "code",
   "execution_count": null,
   "metadata": {},
   "outputs": [],
   "source": [
    "# LZC(mu)\n",
    "_, ax = plt.subplots(figsize=(15,5))\n",
    "sns.lineplot(data=pd.DataFrame({'20%':result1_x_is_mu, '10%':result2_x_is_mu, \n",
    "                                ' 5%':result3_x_is_mu, ' 1%':result4_x_is_mu})[1:])\n",
    "for x in range(4,10):\n",
    "    _ = plt.axvline(2**x, alpha=.5, color=fcolors[x-4], ls=\":\")\n",
    "    _ = plt.axvline(get_flipping_value(2**x), alpha=.5, color=fcolors[x-4], ls=\"-\")\n",
    "    _ = plt.axvline(get_mirrored_flipping_value(2**x), alpha=.5, color=fcolors[x-4], ls=\"-\")\n",
    "plt.legend();"
   ]
  },
  {
   "cell_type": "code",
   "execution_count": null,
   "metadata": {},
   "outputs": [],
   "source": [
    "def get_closest_pow_2(val):\n",
    "    next_smaller = next_smaller_pow_two(val)\n",
    "    diff_smaller = val - next_smaller\n",
    "    next_bigger = next_bigger_pow_two(val)\n",
    "    diff_bigger = next_bigger - val\n",
    "    if diff_bigger < diff_smaller:\n",
    "        return next_bigger\n",
    "    else:\n",
    "        return next_smaller\n",
    "\n",
    "def next_bigger_pow_two(val):\n",
    "    return 1 << len(np.binary_repr(val))\n",
    "\n",
    "def next_smaller_pow_two(val):\n",
    "    return 1 << len(np.binary_repr(val)) - 1"
   ]
  },
  {
   "cell_type": "code",
   "execution_count": null,
   "metadata": {},
   "outputs": [],
   "source": [
    "def get_shifted_goal(val, method='closest', mode='flip'):\n",
    "    \"\"\"\n",
    "    \n",
    "    \"\"\"\n",
    "    \n",
    "    # Calculate power of two on which the shift should be based\n",
    "    if val != 0 and val & (val-1) == 0:\n",
    "        val = val\n",
    "    elif method in ('closest', 'c'):\n",
    "        val = get_closest_pow_2(val)\n",
    "    elif method in ('smaller', 's'):\n",
    "        val = next_smaller_pow_two(val)\n",
    "    elif method in ('bigger', 'b'):\n",
    "        val = next_bigger_pow_two(val)\n",
    "    else:\n",
    "        raise Exception(\"Could not understand method '{}'\".format(method))\n",
    "    \n",
    "    if mode == 'flip':\n",
    "        return get_flipping_value(val)\n",
    "    elif mode == 'mflip':\n",
    "        return get_mirrored_flipping_value(val)\n",
    "    else:\n",
    "        raise Exception(\"Could not understand mode '{}'\".format(mode))    "
   ]
  },
  {
   "cell_type": "code",
   "execution_count": null,
   "metadata": {},
   "outputs": [],
   "source": [
    "get_shifted_goal(256, 'b', 'mflip')"
   ]
  },
  {
   "cell_type": "code",
   "execution_count": null,
   "metadata": {},
   "outputs": [],
   "source": []
  },
  {
   "cell_type": "code",
   "execution_count": null,
   "metadata": {},
   "outputs": [],
   "source": []
  },
  {
   "cell_type": "code",
   "execution_count": null,
   "metadata": {},
   "outputs": [],
   "source": []
  },
  {
   "cell_type": "code",
   "execution_count": null,
   "metadata": {},
   "outputs": [],
   "source": []
  },
  {
   "cell_type": "code",
   "execution_count": null,
   "metadata": {},
   "outputs": [],
   "source": []
  },
  {
   "cell_type": "code",
   "execution_count": null,
   "metadata": {},
   "outputs": [],
   "source": []
  },
  {
   "cell_type": "code",
   "execution_count": null,
   "metadata": {},
   "outputs": [],
   "source": []
  },
  {
   "cell_type": "code",
   "execution_count": null,
   "metadata": {},
   "outputs": [],
   "source": []
  },
  {
   "cell_type": "code",
   "execution_count": null,
   "metadata": {},
   "outputs": [],
   "source": []
  },
  {
   "cell_type": "code",
   "execution_count": null,
   "metadata": {},
   "outputs": [],
   "source": []
  },
  {
   "cell_type": "code",
   "execution_count": null,
   "metadata": {},
   "outputs": [],
   "source": []
  },
  {
   "cell_type": "code",
   "execution_count": null,
   "metadata": {},
   "outputs": [],
   "source": []
  },
  {
   "cell_type": "code",
   "execution_count": null,
   "metadata": {},
   "outputs": [],
   "source": []
  },
  {
   "cell_type": "code",
   "execution_count": null,
   "metadata": {},
   "outputs": [],
   "source": []
  },
  {
   "cell_type": "code",
   "execution_count": null,
   "metadata": {},
   "outputs": [],
   "source": []
  },
  {
   "cell_type": "code",
   "execution_count": null,
   "metadata": {},
   "outputs": [],
   "source": []
  },
  {
   "cell_type": "code",
   "execution_count": null,
   "metadata": {},
   "outputs": [],
   "source": []
  },
  {
   "cell_type": "code",
   "execution_count": null,
   "metadata": {},
   "outputs": [],
   "source": []
  },
  {
   "cell_type": "code",
   "execution_count": null,
   "metadata": {},
   "outputs": [],
   "source": []
  },
  {
   "cell_type": "code",
   "execution_count": null,
   "metadata": {},
   "outputs": [],
   "source": []
  },
  {
   "cell_type": "code",
   "execution_count": null,
   "metadata": {},
   "outputs": [],
   "source": []
  },
  {
   "cell_type": "markdown",
   "metadata": {},
   "source": [
    "# $\\sigma$ for different climate data"
   ]
  },
  {
   "cell_type": "code",
   "execution_count": null,
   "metadata": {},
   "outputs": [],
   "source": [
    "from glob import glob"
   ]
  },
  {
   "cell_type": "code",
   "execution_count": null,
   "metadata": {},
   "outputs": [],
   "source": [
    "def describe_data(regex):\n",
    "    residual_files = glob(regex)\n",
    "    df = pd.DataFrame(index=['unique', 'mean', 'std'])\n",
    "    for k in sorted(residual_files):\n",
    "        data = np.fromfile(k, dtype='uint32')\n",
    "        ps = pd.Series(data)\n",
    "        unique = ps.unique().size\n",
    "        mean = ps.mean()\n",
    "        std = ps.std()\n",
    "\n",
    "        df[k[2:]] = [unique, mean, std]\n",
    "    df = df.T\n",
    "    df['pcent'] = (df['std'] / df['mean']) * 100\n",
    "    return df"
   ]
  },
  {
   "cell_type": "code",
   "execution_count": null,
   "metadata": {
    "scrolled": false
   },
   "outputs": [],
   "source": [
    "# describe_data(\"./*.residual\")"
   ]
  },
  {
   "cell_type": "code",
   "execution_count": null,
   "metadata": {
    "scrolled": true
   },
   "outputs": [],
   "source": [
    "# describe_data('../../pzip/data/*.raw')"
   ]
  },
  {
   "cell_type": "code",
   "execution_count": null,
   "metadata": {},
   "outputs": [],
   "source": [
    "# describe_data(\"./*.bplanes\")"
   ]
  },
  {
   "cell_type": "code",
   "execution_count": null,
   "metadata": {},
   "outputs": [],
   "source": [
    "# describe_data(\"./*.nlzc\")"
   ]
  },
  {
   "cell_type": "code",
   "execution_count": null,
   "metadata": {},
   "outputs": [],
   "source": []
  },
  {
   "cell_type": "code",
   "execution_count": null,
   "metadata": {},
   "outputs": [],
   "source": []
  },
  {
   "cell_type": "code",
   "execution_count": null,
   "metadata": {},
   "outputs": [],
   "source": []
  }
 ],
 "metadata": {
  "kernelspec": {
   "display_name": "Python 3",
   "language": "python",
   "name": "python3"
  },
  "language_info": {
   "codemirror_mode": {
    "name": "ipython",
    "version": 3
   },
   "file_extension": ".py",
   "mimetype": "text/x-python",
   "name": "python",
   "nbconvert_exporter": "python",
   "pygments_lexer": "ipython3",
   "version": "3.6.6"
  }
 },
 "nbformat": 4,
 "nbformat_minor": 2
}
