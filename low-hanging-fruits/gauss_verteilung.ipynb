{
 "cells": [
  {
   "cell_type": "code",
   "execution_count": null,
   "metadata": {},
   "outputs": [],
   "source": [
    "import numpy as np\n",
    "import pandas as pd\n",
    "import struct\n",
    "from matplotlib import pyplot as plt\n",
    "import seaborn as sns\n",
    "%matplotlib inline"
   ]
  },
  {
   "cell_type": "code",
   "execution_count": null,
   "metadata": {},
   "outputs": [],
   "source": [
    "npxor = np.frompyfunc(np.bitwise_xor, 2, 1)"
   ]
  },
  {
   "cell_type": "code",
   "execution_count": null,
   "metadata": {},
   "outputs": [],
   "source": [
    "def lzc(t):\n",
    "    return 32 - len(np.binary_repr(t))\n",
    "lzcv = np.frompyfunc(lzc, 1, 1)"
   ]
  },
  {
   "cell_type": "code",
   "execution_count": null,
   "metadata": {},
   "outputs": [],
   "source": [
    "def to_u32(f):\n",
    "    s = struct.pack('>f',f)\n",
    "    return struct.unpack('>l', s)[0]\n",
    "to_u32v = np.frompyfunc(to_u32, 1, 1)"
   ]
  },
  {
   "cell_type": "code",
   "execution_count": null,
   "metadata": {
    "scrolled": false
   },
   "outputs": [],
   "source": [
    "def mean_lzc(m, o):\n",
    "    dist = np.random.normal(m,o,size=1000)\n",
    "    truth = to_u32(m)\n",
    "    vals = to_u32v(dist)\n",
    "    xors = npxor(vals, truth)\n",
    "    lzcs = lzcv(xors)\n",
    "    return lzcs.mean()"
   ]
  },
  {
   "cell_type": "markdown",
   "metadata": {},
   "source": [
    "## TODO\n",
    "\n",
    "- [x] Plot LZC($\\mu$)\n",
    "- [x] Plot LZC($\\sigma$)\n",
    "- [ ] Find out with what $\\sigma$ we are working for different predictors for climate data\n",
    "- [ ] Plot compression ratio dependency of $\\mu$\n",
    "- [ ] Plot compression ratio dependency of $\\sigma$\n",
    "- [ ] Mark the 0101010101 shift values in the plot\n",
    "- [ ] Mark the 1010101010 shift values in the plot"
   ]
  },
  {
   "cell_type": "markdown",
   "metadata": {},
   "source": [
    "# LZC($\\mu$)"
   ]
  },
  {
   "cell_type": "code",
   "execution_count": null,
   "metadata": {},
   "outputs": [],
   "source": [
    "mu = np.arange(1000)\n",
    "sigma = mu*.20\n",
    "sigma2 = mu*.10\n",
    "sigma3 = mu*.05\n",
    "sigma4 = mu*.01"
   ]
  },
  {
   "cell_type": "code",
   "execution_count": null,
   "metadata": {},
   "outputs": [],
   "source": [
    "result = [mean_lzc(m,o) for m,o in zip(mu,sigma)]\n",
    "result2 = [mean_lzc(m,o) for m,o in zip(mu,sigma2)]\n",
    "result3 = [mean_lzc(m,o) for m,o in zip(mu,sigma3)]\n",
    "result4 = [mean_lzc(m,o) for m,o in zip(mu,sigma4)]"
   ]
  },
  {
   "cell_type": "code",
   "execution_count": null,
   "metadata": {},
   "outputs": [],
   "source": [
    "factors = [1.75,1.625,1.5,1.25,1.125,1]\n",
    "fcolors = ['crimson','magenta','skyblue','limegreen','olivedrab', 'goldenrod']"
   ]
  },
  {
   "cell_type": "code",
   "execution_count": null,
   "metadata": {},
   "outputs": [],
   "source": [
    "# LZC(mu)\n",
    "_, ax = plt.subplots(figsize=(15,5))\n",
    "sns.lineplot(data=pd.DataFrame({'20%':result, '10%':result2, '5%':result3, '1%':result4})[1:])\n",
    "for i,f in enumerate(factors):\n",
    "    [plt.axvline(2**x*f, alpha=.5, color=fcolors[i], ls=\":\") for x in range(4,10)];\n",
    "plt.legend();"
   ]
  },
  {
   "cell_type": "code",
   "execution_count": null,
   "metadata": {},
   "outputs": [],
   "source": [
    "# Vertical lines at above plot\n",
    "base = 128\n",
    "for i,f in enumerate(factors):\n",
    "    print(\"{:.4f} {:>9} {:>10}\".format(f, np.binary_repr(int(base*f), 8), fcolors[i]))"
   ]
  },
  {
   "cell_type": "markdown",
   "metadata": {},
   "source": [
    "# LZC($\\sigma$)"
   ]
  },
  {
   "cell_type": "code",
   "execution_count": null,
   "metadata": {},
   "outputs": [],
   "source": [
    "sigma = np.arange(1000)\n",
    "mu = [128 * 2] * sigma.size\n",
    "mu2 = [128 * 1.5] * sigma.size\n",
    "mu3 = [128 * 1.125] * sigma.size\n",
    "mu4 = [128] * sigma.size"
   ]
  },
  {
   "cell_type": "code",
   "execution_count": null,
   "metadata": {},
   "outputs": [],
   "source": [
    "result = [mean_lzc(m,o) for m,o in zip(mu,sigma)]\n",
    "result2 = [mean_lzc(m,o) for m,o in zip(mu2,sigma)]\n",
    "result3 = [mean_lzc(m,o) for m,o in zip(mu3,sigma)]\n",
    "result4 = [mean_lzc(m,o) for m,o in zip(mu4,sigma)]"
   ]
  },
  {
   "cell_type": "code",
   "execution_count": null,
   "metadata": {},
   "outputs": [],
   "source": [
    "# LZC(sigma)\n",
    "_, ax = plt.subplots(figsize=(15,5))\n",
    "sns.lineplot(data=pd.DataFrame({'128x2':result, '128x1.5':result2, '128x1.125':result3, '128x1':result4})[1:])\n",
    "for i,f in enumerate(factors):\n",
    "    [plt.axvline(128*f, alpha=.5, color=fcolors[i], ls=\":\")];\n",
    "plt.legend();"
   ]
  },
  {
   "cell_type": "markdown",
   "metadata": {},
   "source": [
    "- Abstand zu den anderen Linien maximal?"
   ]
  },
  {
   "cell_type": "code",
   "execution_count": null,
   "metadata": {},
   "outputs": [],
   "source": [
    "# Vertical lines at above plot\n",
    "base = 128\n",
    "for i,f in enumerate(factors):\n",
    "    print(\"{:.4f} {:>9} {:>10}\".format(f, np.binary_repr(int(base*f), 8), fcolors[i]))"
   ]
  },
  {
   "cell_type": "code",
   "execution_count": null,
   "metadata": {},
   "outputs": [],
   "source": []
  }
 ],
 "metadata": {
  "kernelspec": {
   "display_name": "Python 3",
   "language": "python",
   "name": "python3"
  },
  "language_info": {
   "codemirror_mode": {
    "name": "ipython",
    "version": 3
   },
   "file_extension": ".py",
   "mimetype": "text/x-python",
   "name": "python",
   "nbconvert_exporter": "python",
   "pygments_lexer": "ipython3",
   "version": "3.6.6"
  }
 },
 "nbformat": 4,
 "nbformat_minor": 2
}
