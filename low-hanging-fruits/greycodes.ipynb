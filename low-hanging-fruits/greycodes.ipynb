{
 "cells": [
  {
   "cell_type": "code",
   "execution_count": null,
   "metadata": {},
   "outputs": [],
   "source": [
    "import numpy as np\n",
    "import pandas as pd\n",
    "import struct\n",
    "from matplotlib import pyplot as plt\n",
    "import seaborn as sns\n",
    "%matplotlib inline"
   ]
  },
  {
   "cell_type": "code",
   "execution_count": null,
   "metadata": {},
   "outputs": [],
   "source": [
    "residual = np.fromfile('/tmp/testing.residual', dtype='uint32')\n",
    "residual"
   ]
  },
  {
   "cell_type": "code",
   "execution_count": null,
   "metadata": {},
   "outputs": [],
   "source": [
    "gresidual = np.fromfile('/tmp/testing.gray.residual', dtype='uint32')\n",
    "gresidual"
   ]
  },
  {
   "cell_type": "code",
   "execution_count": null,
   "metadata": {},
   "outputs": [],
   "source": [
    "def _next_bigger_pow_two(val):\n",
    "    return 1 << len(np.binary_repr(val))\n",
    "next_bigger_pow_two = np.frompyfunc(_next_bigger_pow_two, 1, 1)\n",
    "\n",
    "def next_smaller_pow_two(val):\n",
    "    return 1 << len(np.binary_repr(val)) - 1\n",
    "\n",
    "def lzc(t):\n",
    "    return 32 - len(np.binary_repr(t))\n",
    "lzcv = np.frompyfunc(lzc, 1, 1)"
   ]
  },
  {
   "cell_type": "code",
   "execution_count": null,
   "metadata": {},
   "outputs": [],
   "source": [
    "def _remove_next_smaller_two_pow(val):\n",
    "    return val - next_smaller_pow_two(val)\n",
    "remove_next_smaller_two_pow = np.frompyfunc(_remove_next_smaller_two_pow, 1, 1)"
   ]
  },
  {
   "cell_type": "code",
   "execution_count": null,
   "metadata": {},
   "outputs": [],
   "source": [
    "lzcv(gresidual).mean()"
   ]
  },
  {
   "cell_type": "code",
   "execution_count": null,
   "metadata": {},
   "outputs": [],
   "source": [
    "lzcv(remove_next_smaller_two_pow(gresidual)).mean()"
   ]
  },
  {
   "cell_type": "code",
   "execution_count": null,
   "metadata": {},
   "outputs": [],
   "source": [
    "lzcv(remove_next_smaller_two_pow(gresidual)).mean()"
   ]
  },
  {
   "cell_type": "code",
   "execution_count": null,
   "metadata": {},
   "outputs": [],
   "source": [
    "int(\"11\"+\"0011\"+\"01\"*8, 2)"
   ]
  },
  {
   "cell_type": "code",
   "execution_count": null,
   "metadata": {},
   "outputs": [],
   "source": []
  }
 ],
 "metadata": {
  "kernelspec": {
   "display_name": "Python 3",
   "language": "python",
   "name": "python3"
  },
  "language_info": {
   "codemirror_mode": {
    "name": "ipython",
    "version": 3
   },
   "file_extension": ".py",
   "mimetype": "text/x-python",
   "name": "python",
   "nbconvert_exporter": "python",
   "pygments_lexer": "ipython3",
   "version": "3.6.6"
  }
 },
 "nbformat": 4,
 "nbformat_minor": 2
}
