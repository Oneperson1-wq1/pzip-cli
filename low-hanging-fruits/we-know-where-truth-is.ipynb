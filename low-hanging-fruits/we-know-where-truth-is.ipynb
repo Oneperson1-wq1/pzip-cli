{
 "cells": [
  {
   "cell_type": "code",
   "execution_count": null,
   "metadata": {},
   "outputs": [],
   "source": [
    "import scipy\n",
    "import numpy as np\n",
    "import pandas as pd\n",
    "import seaborn as sns\n",
    "from matplotlib import pyplot as plt\n",
    "%matplotlib inline"
   ]
  },
  {
   "cell_type": "code",
   "execution_count": null,
   "metadata": {},
   "outputs": [],
   "source": [
    "truth = pd.Series(np.fromfile(\"../../pzip/data/icon.pl.u.f32.little.4x47x351x901_3.raw\", dtype='uint32'))\n",
    "truth.name = \"truth\""
   ]
  },
  {
   "cell_type": "code",
   "execution_count": null,
   "metadata": {},
   "outputs": [],
   "source": [
    "prediction = truth.shift()\n",
    "prediction[0] = 0\n",
    "prediction.name = \"prediction\""
   ]
  },
  {
   "cell_type": "code",
   "execution_count": null,
   "metadata": {},
   "outputs": [],
   "source": [
    "df = pd.DataFrame(truth).astype('uint32')\n",
    "df['prediction'] = prediction.astype('uint32')"
   ]
  },
  {
   "cell_type": "code",
   "execution_count": null,
   "metadata": {},
   "outputs": [],
   "source": [
    "df.tail()"
   ]
  },
  {
   "cell_type": "code",
   "execution_count": null,
   "metadata": {},
   "outputs": [],
   "source": [
    "def _lzc(t):\n",
    "    if t==0:\n",
    "        return 32\n",
    "    return 32 - len(np.binary_repr(t))\n",
    "lzc = np.frompyfunc(_lzc, 1, 1)\n",
    "npxor = np.frompyfunc(np.bitwise_xor, 1, 1)"
   ]
  },
  {
   "cell_type": "code",
   "execution_count": null,
   "metadata": {},
   "outputs": [],
   "source": [
    "df['xor'] = npxor(df['truth'].values,df['prediction'].values)"
   ]
  },
  {
   "cell_type": "code",
   "execution_count": null,
   "metadata": {},
   "outputs": [],
   "source": [
    "df['diff'] = df.loc[:,['prediction','truth']].max(axis=1) - df.loc[:,['prediction','truth']].min(axis=1)"
   ]
  },
  {
   "cell_type": "code",
   "execution_count": null,
   "metadata": {},
   "outputs": [],
   "source": [
    "df['truth_bigger'] = df['truth'] >= df['prediction']"
   ]
  },
  {
   "cell_type": "code",
   "execution_count": null,
   "metadata": {},
   "outputs": [],
   "source": [
    "df['xor_lzc'] = lzc(df['xor'])"
   ]
  },
  {
   "cell_type": "code",
   "execution_count": null,
   "metadata": {},
   "outputs": [],
   "source": [
    "df.head()"
   ]
  },
  {
   "cell_type": "code",
   "execution_count": null,
   "metadata": {},
   "outputs": [],
   "source": [
    "def _truth_bigger_or_same(prediction, lzc):\n",
    "    if lzc == 32:\n",
    "        # Truth is same as prediction\n",
    "        return True\n",
    "    value = 1 << 32 - lzc - 1\n",
    "    if prediction & value > 0:\n",
    "        return False\n",
    "    else:\n",
    "        return True\n",
    "truth_bigger_or_same = np.frompyfunc(_truth_bigger, 2, 1)"
   ]
  },
  {
   "cell_type": "code",
   "execution_count": null,
   "metadata": {},
   "outputs": [],
   "source": [
    "df['truth_bigger_lzc'] = truth_bigger_or_same(df['prediction'], df['xor_lzc'])"
   ]
  },
  {
   "cell_type": "code",
   "execution_count": null,
   "metadata": {},
   "outputs": [],
   "source": [
    "# # ix = -3532\n",
    "# # ix = -142\n",
    "# ix = -24\n",
    "# t = np.binary_repr(df['truth'].iloc[ix], 32)\n",
    "# p = np.binary_repr(df['prediction'].iloc[ix], 32)\n",
    "# l = np.binary_repr(1 << 32 - df['xor_lzc'].iloc[ix] - 1, 32)\n",
    "# o = np.binary_repr(df['prediction'].iloc[ix] & 1 << 32 - df['xor_lzc'].iloc[ix] - 1, 32)\n",
    "# print(t,p,l,o, sep='\\n')"
   ]
  },
  {
   "cell_type": "code",
   "execution_count": null,
   "metadata": {},
   "outputs": [],
   "source": [
    "np.array_equal(df['truth_bigger_lzc'], df['truth_bigger'])"
   ]
  },
  {
   "cell_type": "code",
   "execution_count": null,
   "metadata": {},
   "outputs": [],
   "source": []
  }
 ],
 "metadata": {
  "kernelspec": {
   "display_name": "Python 3",
   "language": "python",
   "name": "python3"
  },
  "language_info": {
   "codemirror_mode": {
    "name": "ipython",
    "version": 3
   },
   "file_extension": ".py",
   "mimetype": "text/x-python",
   "name": "python",
   "nbconvert_exporter": "python",
   "pygments_lexer": "ipython3",
   "version": "3.6.6"
  }
 },
 "nbformat": 4,
 "nbformat_minor": 2
}
