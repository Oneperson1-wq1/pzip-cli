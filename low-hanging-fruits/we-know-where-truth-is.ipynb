{
 "cells": [
  {
   "cell_type": "code",
   "execution_count": null,
   "metadata": {},
   "outputs": [],
   "source": [
    "import scipy\n",
    "import numpy as np\n",
    "import pandas as pd\n",
    "import seaborn as sns\n",
    "from matplotlib import pyplot as plt\n",
    "%matplotlib inline"
   ]
  },
  {
   "cell_type": "code",
   "execution_count": null,
   "metadata": {},
   "outputs": [],
   "source": [
    "truth = pd.Series(np.fromfile(\"../../pzip/data/icon.pl.u.f32.little.4x47x351x901_3.raw\", dtype='uint32'))\n",
    "truth.name = \"truth\""
   ]
  },
  {
   "cell_type": "code",
   "execution_count": null,
   "metadata": {},
   "outputs": [],
   "source": [
    "prediction = truth.shift()\n",
    "prediction[0] = 0\n",
    "prediction.name = \"prediction\""
   ]
  },
  {
   "cell_type": "code",
   "execution_count": null,
   "metadata": {},
   "outputs": [],
   "source": [
    "df = pd.DataFrame(truth).astype('uint32')\n",
    "df['prediction'] = prediction.astype('uint32')"
   ]
  },
  {
   "cell_type": "code",
   "execution_count": null,
   "metadata": {},
   "outputs": [],
   "source": [
    "df.tail()"
   ]
  },
  {
   "cell_type": "code",
   "execution_count": null,
   "metadata": {},
   "outputs": [],
   "source": [
    "def _lzc(t):\n",
    "    if t==0:\n",
    "        return 32\n",
    "    return 32 - len(np.binary_repr(t))\n",
    "lzc = np.frompyfunc(_lzc, 1, 1)\n",
    "npxor = np.frompyfunc(np.bitwise_xor, 2, 1)"
   ]
  },
  {
   "cell_type": "code",
   "execution_count": null,
   "metadata": {},
   "outputs": [],
   "source": [
    "df['xor'] = npxor(df['truth'].values, df['prediction'].values)\n",
    "df.tail()"
   ]
  },
  {
   "cell_type": "code",
   "execution_count": null,
   "metadata": {},
   "outputs": [],
   "source": [
    "df['diff'] = df.loc[:,['prediction','truth']].max(axis=1) - df.loc[:,['prediction','truth']].min(axis=1)"
   ]
  },
  {
   "cell_type": "code",
   "execution_count": null,
   "metadata": {},
   "outputs": [],
   "source": [
    "df['truth_bigger'] = df['truth'] >= df['prediction']"
   ]
  },
  {
   "cell_type": "code",
   "execution_count": null,
   "metadata": {},
   "outputs": [],
   "source": [
    "df['xor_lzc'] = lzc(df['xor'])"
   ]
  },
  {
   "cell_type": "code",
   "execution_count": null,
   "metadata": {},
   "outputs": [],
   "source": [
    "df.tail()"
   ]
  },
  {
   "cell_type": "code",
   "execution_count": null,
   "metadata": {},
   "outputs": [],
   "source": [
    "def _truth_bigger_or_same(prediction, lzc):\n",
    "    if lzc == 32:\n",
    "        # Truth is same as prediction\n",
    "        return True\n",
    "    value = 1 << 32 - lzc - 1\n",
    "    if prediction & value > 0:\n",
    "        return False\n",
    "    else:\n",
    "        return True\n",
    "truth_bigger_or_same = np.frompyfunc(_truth_bigger_or_same, 2, 1)"
   ]
  },
  {
   "cell_type": "code",
   "execution_count": null,
   "metadata": {},
   "outputs": [],
   "source": [
    "df['truth_bigger_lzc'] = truth_bigger_or_same(df['prediction'], df['xor_lzc'])"
   ]
  },
  {
   "cell_type": "code",
   "execution_count": null,
   "metadata": {},
   "outputs": [],
   "source": [
    "# # ix = -3532\n",
    "# # ix = -142\n",
    "# ix = -24\n",
    "# t = np.binary_repr(df['truth'].iloc[ix], 32)\n",
    "# p = np.binary_repr(df['prediction'].iloc[ix], 32)\n",
    "# l = np.binary_repr(1 << 32 - df['xor_lzc'].iloc[ix] - 1, 32)\n",
    "# o = np.binary_repr(df['prediction'].iloc[ix] & 1 << 32 - df['xor_lzc'].iloc[ix] - 1, 32)\n",
    "# print(t,p,l,o, sep='\\n')"
   ]
  },
  {
   "cell_type": "code",
   "execution_count": null,
   "metadata": {},
   "outputs": [],
   "source": [
    "np.array_equal(df['truth_bigger_lzc'], df['truth_bigger'])"
   ]
  },
  {
   "cell_type": "markdown",
   "metadata": {},
   "source": [
    "# Calculate padding zeros for diff"
   ]
  },
  {
   "cell_type": "code",
   "execution_count": null,
   "metadata": {},
   "outputs": [],
   "source": [
    "df"
   ]
  },
  {
   "cell_type": "code",
   "execution_count": null,
   "metadata": {},
   "outputs": [],
   "source": [
    "def _paddingzeros(lzc, diff):\n",
    "    if diff == 0:\n",
    "        return 32\n",
    "    return 32 - lzc - len(np.binary_repr(diff))\n",
    "paddingzeros = np.frompyfunc(_paddingzeros, 2, 1)"
   ]
  },
  {
   "cell_type": "code",
   "execution_count": null,
   "metadata": {},
   "outputs": [],
   "source": [
    "df['padding_zeros'] = paddingzeros(df['xor_lzc'].values,df['diff'].values)"
   ]
  },
  {
   "cell_type": "code",
   "execution_count": null,
   "metadata": {},
   "outputs": [],
   "source": [
    "df.tail()"
   ]
  },
  {
   "cell_type": "markdown",
   "metadata": {},
   "source": [
    "# Probabilities"
   ]
  },
  {
   "cell_type": "code",
   "execution_count": null,
   "metadata": {},
   "outputs": [],
   "source": [
    "from collections import Counter\n",
    "import operator as op"
   ]
  },
  {
   "cell_type": "markdown",
   "metadata": {},
   "source": [
    "## Number of zeros"
   ]
  },
  {
   "cell_type": "code",
   "execution_count": null,
   "metadata": {},
   "outputs": [],
   "source": [
    "distribution = {k:v/df.index.size for k,v in Counter(df['padding_zeros']).items()}\n",
    "distribution_value_sorted = {k:v for k,v in sorted(distribution.items(), key=op.itemgetter(1), reverse=True)}"
   ]
  },
  {
   "cell_type": "code",
   "execution_count": null,
   "metadata": {},
   "outputs": [],
   "source": [
    "distribution_value_sorted"
   ]
  },
  {
   "cell_type": "markdown",
   "metadata": {},
   "source": [
    "## First k bits of xor"
   ]
  },
  {
   "cell_type": "code",
   "execution_count": null,
   "metadata": {},
   "outputs": [],
   "source": [
    "# k = 4\n",
    "# np.binary_repr(value)"
   ]
  },
  {
   "cell_type": "code",
   "execution_count": null,
   "metadata": {},
   "outputs": [],
   "source": [
    "def _get_first_k_bits_after_1(k, val):\n",
    "    if val < 1 << k:\n",
    "        return val\n",
    "    i = 0\n",
    "    selection = (1 << k) - 1\n",
    "    while (selection << i) <= val:\n",
    "        i += 1\n",
    "    return ((selection << i - 1) & val) >> i - 1\n",
    "get_first_k_bits_after_1 = np.frompyfunc(_get_first_k_bits_after_1, 2 , 1)"
   ]
  },
  {
   "cell_type": "code",
   "execution_count": null,
   "metadata": {},
   "outputs": [],
   "source": [
    "# for num in [153, 212,513,292,82732, 0, 100, 9, 17]:\n",
    "#     print(np.binary_repr(num), np.binary_repr(_get_first_k_bits_after_1(k, num), k))"
   ]
  },
  {
   "cell_type": "code",
   "execution_count": null,
   "metadata": {},
   "outputs": [],
   "source": [
    "df['first_four_xor'] = get_first_k_bits_after_1(4, df['xor_lzc'].values)"
   ]
  },
  {
   "cell_type": "code",
   "execution_count": null,
   "metadata": {},
   "outputs": [],
   "source": [
    "df.tail()"
   ]
  },
  {
   "cell_type": "code",
   "execution_count": null,
   "metadata": {},
   "outputs": [],
   "source": [
    "distribution = {k:v/df.index.size for k,v in Counter(df['first_four_xor']).items()}\n",
    "distribution_value_sorted = {np.binary_repr(k, 4):v for k,v in sorted(distribution.items(), key=op.itemgetter(1), reverse=True)}"
   ]
  },
  {
   "cell_type": "code",
   "execution_count": null,
   "metadata": {},
   "outputs": [],
   "source": [
    "df['padding_zeros'].sum()"
   ]
  },
  {
   "cell_type": "code",
   "execution_count": null,
   "metadata": {},
   "outputs": [],
   "source": [
    "df['xor_lzc'].sum()"
   ]
  },
  {
   "cell_type": "code",
   "execution_count": null,
   "metadata": {},
   "outputs": [],
   "source": [
    "df.index.size*32"
   ]
  },
  {
   "cell_type": "code",
   "execution_count": null,
   "metadata": {},
   "outputs": [],
   "source": []
  }
 ],
 "metadata": {
  "kernelspec": {
   "display_name": "Python 3",
   "language": "python",
   "name": "python3"
  },
  "language_info": {
   "codemirror_mode": {
    "name": "ipython",
    "version": 3
   },
   "file_extension": ".py",
   "mimetype": "text/x-python",
   "name": "python",
   "nbconvert_exporter": "python",
   "pygments_lexer": "ipython3",
   "version": "3.6.6"
  }
 },
 "nbformat": 4,
 "nbformat_minor": 2
}
